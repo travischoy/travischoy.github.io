{
 "cells": [
  {
   "cell_type": "code",
   "execution_count": null,
   "id": "412ea82c",
   "metadata": {
    "scrolled": true
   },
   "outputs": [],
   "source": [
    "pip install yfinance"
   ]
  },
  {
   "cell_type": "code",
   "execution_count": null,
   "id": "d147876d",
   "metadata": {},
   "outputs": [],
   "source": [
    "pip install plotly"
   ]
  },
  {
   "cell_type": "code",
   "execution_count": 1,
   "id": "4475c0aa",
   "metadata": {},
   "outputs": [],
   "source": [
    "import yfinance as yf\n",
    "import matplotlib.pyplot as plt\n",
    "import plotly.express as px\n",
    "import plotly.graph_objects as go\n",
    "import numpy as np\n",
    "\n",
    "ticker = yf.Ticker('MSFT')"
   ]
  },
  {
   "cell_type": "code",
   "execution_count": 2,
   "id": "cffadd9b",
   "metadata": {},
   "outputs": [
    {
     "data": {
      "text/html": [
       "<div>\n",
       "<style scoped>\n",
       "    .dataframe tbody tr th:only-of-type {\n",
       "        vertical-align: middle;\n",
       "    }\n",
       "\n",
       "    .dataframe tbody tr th {\n",
       "        vertical-align: top;\n",
       "    }\n",
       "\n",
       "    .dataframe thead th {\n",
       "        text-align: right;\n",
       "    }\n",
       "</style>\n",
       "<table border=\"1\" class=\"dataframe\">\n",
       "  <thead>\n",
       "    <tr style=\"text-align: right;\">\n",
       "      <th></th>\n",
       "      <th>Intangible Assets</th>\n",
       "      <th>Total Liab</th>\n",
       "      <th>Total Stockholder Equity</th>\n",
       "      <th>Other Current Liab</th>\n",
       "      <th>Total Assets</th>\n",
       "      <th>Common Stock</th>\n",
       "      <th>Other Current Assets</th>\n",
       "      <th>Retained Earnings</th>\n",
       "      <th>Other Liab</th>\n",
       "      <th>Good Will</th>\n",
       "      <th>...</th>\n",
       "      <th>Long Term Investments</th>\n",
       "      <th>Net Tangible Assets</th>\n",
       "      <th>Short Term Investments</th>\n",
       "      <th>Net Receivables</th>\n",
       "      <th>Long Term Debt</th>\n",
       "      <th>Inventory</th>\n",
       "      <th>Accounts Payable</th>\n",
       "      <th>Current Ratio</th>\n",
       "      <th>Working Capital</th>\n",
       "      <th>Debt to Equity</th>\n",
       "    </tr>\n",
       "    <tr>\n",
       "      <th></th>\n",
       "      <th></th>\n",
       "      <th></th>\n",
       "      <th></th>\n",
       "      <th></th>\n",
       "      <th></th>\n",
       "      <th></th>\n",
       "      <th></th>\n",
       "      <th></th>\n",
       "      <th></th>\n",
       "      <th></th>\n",
       "      <th></th>\n",
       "      <th></th>\n",
       "      <th></th>\n",
       "      <th></th>\n",
       "      <th></th>\n",
       "      <th></th>\n",
       "      <th></th>\n",
       "      <th></th>\n",
       "      <th></th>\n",
       "      <th></th>\n",
       "      <th></th>\n",
       "    </tr>\n",
       "  </thead>\n",
       "  <tbody>\n",
       "    <tr>\n",
       "      <th>2021-06-30</th>\n",
       "      <td>7.800000e+09</td>\n",
       "      <td>1.917910e+11</td>\n",
       "      <td>1.419880e+11</td>\n",
       "      <td>5.261200e+10</td>\n",
       "      <td>3.337790e+11</td>\n",
       "      <td>8.311100e+10</td>\n",
       "      <td>1.347100e+10</td>\n",
       "      <td>5.705500e+10</td>\n",
       "      <td>3.168100e+10</td>\n",
       "      <td>4.971100e+10</td>\n",
       "      <td>...</td>\n",
       "      <td>5.984000e+09</td>\n",
       "      <td>8.447700e+10</td>\n",
       "      <td>1.160320e+11</td>\n",
       "      <td>3.804300e+10</td>\n",
       "      <td>5.007400e+10</td>\n",
       "      <td>2.636000e+09</td>\n",
       "      <td>1.516300e+10</td>\n",
       "      <td>2.079994</td>\n",
       "      <td>9.574900e+10</td>\n",
       "      <td>1.350755</td>\n",
       "    </tr>\n",
       "    <tr>\n",
       "      <th>2020-06-30</th>\n",
       "      <td>7.038000e+09</td>\n",
       "      <td>1.830070e+11</td>\n",
       "      <td>1.183040e+11</td>\n",
       "      <td>4.600100e+10</td>\n",
       "      <td>3.013110e+11</td>\n",
       "      <td>8.055200e+10</td>\n",
       "      <td>1.151700e+10</td>\n",
       "      <td>3.456600e+10</td>\n",
       "      <td>3.449200e+10</td>\n",
       "      <td>4.335100e+10</td>\n",
       "      <td>...</td>\n",
       "      <td>2.965000e+09</td>\n",
       "      <td>6.791500e+10</td>\n",
       "      <td>1.229160e+11</td>\n",
       "      <td>3.201100e+10</td>\n",
       "      <td>5.957800e+10</td>\n",
       "      <td>1.895000e+09</td>\n",
       "      <td>1.253000e+10</td>\n",
       "      <td>2.515765</td>\n",
       "      <td>1.096050e+11</td>\n",
       "      <td>1.546921</td>\n",
       "    </tr>\n",
       "    <tr>\n",
       "      <th>2019-06-30</th>\n",
       "      <td>7.750000e+09</td>\n",
       "      <td>1.842260e+11</td>\n",
       "      <td>1.023300e+11</td>\n",
       "      <td>4.586000e+10</td>\n",
       "      <td>2.865560e+11</td>\n",
       "      <td>7.852000e+10</td>\n",
       "      <td>1.013300e+10</td>\n",
       "      <td>2.415000e+10</td>\n",
       "      <td>3.569900e+10</td>\n",
       "      <td>4.202600e+10</td>\n",
       "      <td>...</td>\n",
       "      <td>2.649000e+09</td>\n",
       "      <td>5.255400e+10</td>\n",
       "      <td>1.224760e+11</td>\n",
       "      <td>2.952400e+10</td>\n",
       "      <td>6.666200e+10</td>\n",
       "      <td>2.063000e+09</td>\n",
       "      <td>9.382000e+09</td>\n",
       "      <td>2.528839</td>\n",
       "      <td>1.061320e+11</td>\n",
       "      <td>1.800313</td>\n",
       "    </tr>\n",
       "    <tr>\n",
       "      <th>2018-06-30</th>\n",
       "      <td>8.053000e+09</td>\n",
       "      <td>1.761300e+11</td>\n",
       "      <td>8.271800e+10</td>\n",
       "      <td>3.819500e+10</td>\n",
       "      <td>2.588480e+11</td>\n",
       "      <td>7.122300e+10</td>\n",
       "      <td>6.855000e+09</td>\n",
       "      <td>1.368200e+10</td>\n",
       "      <td>3.570700e+10</td>\n",
       "      <td>3.568300e+10</td>\n",
       "      <td>...</td>\n",
       "      <td>1.862000e+09</td>\n",
       "      <td>3.898200e+10</td>\n",
       "      <td>1.217180e+11</td>\n",
       "      <td>2.648100e+10</td>\n",
       "      <td>7.224200e+10</td>\n",
       "      <td>2.662000e+09</td>\n",
       "      <td>8.617000e+09</td>\n",
       "      <td>2.900800</td>\n",
       "      <td>1.111740e+11</td>\n",
       "      <td>2.129283</td>\n",
       "    </tr>\n",
       "  </tbody>\n",
       "</table>\n",
       "<p>4 rows × 29 columns</p>\n",
       "</div>"
      ],
      "text/plain": [
       "            Intangible Assets    Total Liab  Total Stockholder Equity  \\\n",
       "                                                                        \n",
       "2021-06-30       7.800000e+09  1.917910e+11              1.419880e+11   \n",
       "2020-06-30       7.038000e+09  1.830070e+11              1.183040e+11   \n",
       "2019-06-30       7.750000e+09  1.842260e+11              1.023300e+11   \n",
       "2018-06-30       8.053000e+09  1.761300e+11              8.271800e+10   \n",
       "\n",
       "            Other Current Liab  Total Assets  Common Stock  \\\n",
       "                                                             \n",
       "2021-06-30        5.261200e+10  3.337790e+11  8.311100e+10   \n",
       "2020-06-30        4.600100e+10  3.013110e+11  8.055200e+10   \n",
       "2019-06-30        4.586000e+10  2.865560e+11  7.852000e+10   \n",
       "2018-06-30        3.819500e+10  2.588480e+11  7.122300e+10   \n",
       "\n",
       "            Other Current Assets  Retained Earnings    Other Liab  \\\n",
       "                                                                    \n",
       "2021-06-30          1.347100e+10       5.705500e+10  3.168100e+10   \n",
       "2020-06-30          1.151700e+10       3.456600e+10  3.449200e+10   \n",
       "2019-06-30          1.013300e+10       2.415000e+10  3.569900e+10   \n",
       "2018-06-30          6.855000e+09       1.368200e+10  3.570700e+10   \n",
       "\n",
       "               Good Will  ...  Long Term Investments  Net Tangible Assets  \\\n",
       "                          ...                                               \n",
       "2021-06-30  4.971100e+10  ...           5.984000e+09         8.447700e+10   \n",
       "2020-06-30  4.335100e+10  ...           2.965000e+09         6.791500e+10   \n",
       "2019-06-30  4.202600e+10  ...           2.649000e+09         5.255400e+10   \n",
       "2018-06-30  3.568300e+10  ...           1.862000e+09         3.898200e+10   \n",
       "\n",
       "            Short Term Investments  Net Receivables  Long Term Debt  \\\n",
       "                                                                      \n",
       "2021-06-30            1.160320e+11     3.804300e+10    5.007400e+10   \n",
       "2020-06-30            1.229160e+11     3.201100e+10    5.957800e+10   \n",
       "2019-06-30            1.224760e+11     2.952400e+10    6.666200e+10   \n",
       "2018-06-30            1.217180e+11     2.648100e+10    7.224200e+10   \n",
       "\n",
       "               Inventory  Accounts Payable  Current Ratio  Working Capital  \\\n",
       "                                                                             \n",
       "2021-06-30  2.636000e+09      1.516300e+10       2.079994     9.574900e+10   \n",
       "2020-06-30  1.895000e+09      1.253000e+10       2.515765     1.096050e+11   \n",
       "2019-06-30  2.063000e+09      9.382000e+09       2.528839     1.061320e+11   \n",
       "2018-06-30  2.662000e+09      8.617000e+09       2.900800     1.111740e+11   \n",
       "\n",
       "            Debt to Equity  \n",
       "                            \n",
       "2021-06-30        1.350755  \n",
       "2020-06-30        1.546921  \n",
       "2019-06-30        1.800313  \n",
       "2018-06-30        2.129283  \n",
       "\n",
       "[4 rows x 29 columns]"
      ]
     },
     "execution_count": 2,
     "metadata": {},
     "output_type": "execute_result"
    }
   ],
   "source": [
    "# show balance sheet\n",
    "balance = ticker.balance_sheet\n",
    "balance = balance.T\n",
    "\n",
    "balance['Current Ratio'] = np.divide(balance['Total Current Assets'], balance['Total Current Liabilities'])\n",
    "balance['Working Capital'] = np.subtract(balance['Total Current Assets'], balance['Total Current Liabilities'])\n",
    "balance['Debt to Equity'] = np.divide(balance['Total Liab'], balance['Total Stockholder Equity'])\n",
    "\n",
    "balance.head(len(balance))\n"
   ]
  },
  {
   "cell_type": "code",
   "execution_count": 3,
   "id": "ce86d345",
   "metadata": {},
   "outputs": [
    {
     "data": {
      "text/html": [
       "<div>\n",
       "<style scoped>\n",
       "    .dataframe tbody tr th:only-of-type {\n",
       "        vertical-align: middle;\n",
       "    }\n",
       "\n",
       "    .dataframe tbody tr th {\n",
       "        vertical-align: top;\n",
       "    }\n",
       "\n",
       "    .dataframe thead th {\n",
       "        text-align: right;\n",
       "    }\n",
       "</style>\n",
       "<table border=\"1\" class=\"dataframe\">\n",
       "  <thead>\n",
       "    <tr style=\"text-align: right;\">\n",
       "      <th></th>\n",
       "      <th>Research Development</th>\n",
       "      <th>Effect Of Accounting Charges</th>\n",
       "      <th>Income Before Tax</th>\n",
       "      <th>Minority Interest</th>\n",
       "      <th>Net Income</th>\n",
       "      <th>Selling General Administrative</th>\n",
       "      <th>Gross Profit</th>\n",
       "      <th>Ebit</th>\n",
       "      <th>Operating Income</th>\n",
       "      <th>Other Operating Expenses</th>\n",
       "      <th>...</th>\n",
       "      <th>Other Items</th>\n",
       "      <th>Income Tax Expense</th>\n",
       "      <th>Total Revenue</th>\n",
       "      <th>Total Operating Expenses</th>\n",
       "      <th>Cost Of Revenue</th>\n",
       "      <th>Total Other Income Expense Net</th>\n",
       "      <th>Discontinued Operations</th>\n",
       "      <th>Net Income From Continuing Ops</th>\n",
       "      <th>Net Income Applicable To Common Shares</th>\n",
       "      <th>Operating Margin</th>\n",
       "    </tr>\n",
       "    <tr>\n",
       "      <th></th>\n",
       "      <th></th>\n",
       "      <th></th>\n",
       "      <th></th>\n",
       "      <th></th>\n",
       "      <th></th>\n",
       "      <th></th>\n",
       "      <th></th>\n",
       "      <th></th>\n",
       "      <th></th>\n",
       "      <th></th>\n",
       "      <th></th>\n",
       "      <th></th>\n",
       "      <th></th>\n",
       "      <th></th>\n",
       "      <th></th>\n",
       "      <th></th>\n",
       "      <th></th>\n",
       "      <th></th>\n",
       "      <th></th>\n",
       "      <th></th>\n",
       "      <th></th>\n",
       "    </tr>\n",
       "  </thead>\n",
       "  <tbody>\n",
       "    <tr>\n",
       "      <th>2021-06-30</th>\n",
       "      <td>20716000000.0</td>\n",
       "      <td>None</td>\n",
       "      <td>71102000000.0</td>\n",
       "      <td>None</td>\n",
       "      <td>61271000000.0</td>\n",
       "      <td>25224000000.0</td>\n",
       "      <td>115856000000.0</td>\n",
       "      <td>69916000000.0</td>\n",
       "      <td>69916000000.0</td>\n",
       "      <td>None</td>\n",
       "      <td>...</td>\n",
       "      <td>None</td>\n",
       "      <td>9831000000.0</td>\n",
       "      <td>168088000000.0</td>\n",
       "      <td>98172000000.0</td>\n",
       "      <td>52232000000.0</td>\n",
       "      <td>1186000000.0</td>\n",
       "      <td>None</td>\n",
       "      <td>61271000000.0</td>\n",
       "      <td>61271000000.0</td>\n",
       "      <td>0.415949</td>\n",
       "    </tr>\n",
       "    <tr>\n",
       "      <th>2020-06-30</th>\n",
       "      <td>19269000000.0</td>\n",
       "      <td>None</td>\n",
       "      <td>53036000000.0</td>\n",
       "      <td>None</td>\n",
       "      <td>44281000000.0</td>\n",
       "      <td>24523000000.0</td>\n",
       "      <td>96937000000.0</td>\n",
       "      <td>53145000000.0</td>\n",
       "      <td>53145000000.0</td>\n",
       "      <td>None</td>\n",
       "      <td>...</td>\n",
       "      <td>None</td>\n",
       "      <td>8755000000.0</td>\n",
       "      <td>143015000000.0</td>\n",
       "      <td>89870000000.0</td>\n",
       "      <td>46078000000.0</td>\n",
       "      <td>-109000000.0</td>\n",
       "      <td>None</td>\n",
       "      <td>44281000000.0</td>\n",
       "      <td>44281000000.0</td>\n",
       "      <td>0.371604</td>\n",
       "    </tr>\n",
       "    <tr>\n",
       "      <th>2019-06-30</th>\n",
       "      <td>16876000000.0</td>\n",
       "      <td>None</td>\n",
       "      <td>43688000000.0</td>\n",
       "      <td>None</td>\n",
       "      <td>39240000000.0</td>\n",
       "      <td>23098000000.0</td>\n",
       "      <td>82933000000.0</td>\n",
       "      <td>42959000000.0</td>\n",
       "      <td>42959000000.0</td>\n",
       "      <td>None</td>\n",
       "      <td>...</td>\n",
       "      <td>None</td>\n",
       "      <td>4448000000.0</td>\n",
       "      <td>125843000000.0</td>\n",
       "      <td>82884000000.0</td>\n",
       "      <td>42910000000.0</td>\n",
       "      <td>729000000.0</td>\n",
       "      <td>None</td>\n",
       "      <td>39240000000.0</td>\n",
       "      <td>39240000000.0</td>\n",
       "      <td>0.34137</td>\n",
       "    </tr>\n",
       "    <tr>\n",
       "      <th>2018-06-30</th>\n",
       "      <td>14726000000.0</td>\n",
       "      <td>None</td>\n",
       "      <td>36474000000.0</td>\n",
       "      <td>None</td>\n",
       "      <td>16571000000.0</td>\n",
       "      <td>22223000000.0</td>\n",
       "      <td>72007000000.0</td>\n",
       "      <td>35058000000.0</td>\n",
       "      <td>35058000000.0</td>\n",
       "      <td>None</td>\n",
       "      <td>...</td>\n",
       "      <td>None</td>\n",
       "      <td>19903000000.0</td>\n",
       "      <td>110360000000.0</td>\n",
       "      <td>75302000000.0</td>\n",
       "      <td>38353000000.0</td>\n",
       "      <td>1416000000.0</td>\n",
       "      <td>None</td>\n",
       "      <td>16571000000.0</td>\n",
       "      <td>16571000000.0</td>\n",
       "      <td>0.317669</td>\n",
       "    </tr>\n",
       "  </tbody>\n",
       "</table>\n",
       "<p>4 rows × 23 columns</p>\n",
       "</div>"
      ],
      "text/plain": [
       "           Research Development Effect Of Accounting Charges  \\\n",
       "                                                               \n",
       "2021-06-30        20716000000.0                         None   \n",
       "2020-06-30        19269000000.0                         None   \n",
       "2019-06-30        16876000000.0                         None   \n",
       "2018-06-30        14726000000.0                         None   \n",
       "\n",
       "           Income Before Tax Minority Interest     Net Income  \\\n",
       "                                                                \n",
       "2021-06-30     71102000000.0              None  61271000000.0   \n",
       "2020-06-30     53036000000.0              None  44281000000.0   \n",
       "2019-06-30     43688000000.0              None  39240000000.0   \n",
       "2018-06-30     36474000000.0              None  16571000000.0   \n",
       "\n",
       "           Selling General Administrative    Gross Profit           Ebit  \\\n",
       "                                                                           \n",
       "2021-06-30                  25224000000.0  115856000000.0  69916000000.0   \n",
       "2020-06-30                  24523000000.0   96937000000.0  53145000000.0   \n",
       "2019-06-30                  23098000000.0   82933000000.0  42959000000.0   \n",
       "2018-06-30                  22223000000.0   72007000000.0  35058000000.0   \n",
       "\n",
       "           Operating Income Other Operating Expenses  ... Other Items  \\\n",
       "                                                      ...               \n",
       "2021-06-30    69916000000.0                     None  ...        None   \n",
       "2020-06-30    53145000000.0                     None  ...        None   \n",
       "2019-06-30    42959000000.0                     None  ...        None   \n",
       "2018-06-30    35058000000.0                     None  ...        None   \n",
       "\n",
       "           Income Tax Expense   Total Revenue Total Operating Expenses  \\\n",
       "                                                                         \n",
       "2021-06-30       9831000000.0  168088000000.0            98172000000.0   \n",
       "2020-06-30       8755000000.0  143015000000.0            89870000000.0   \n",
       "2019-06-30       4448000000.0  125843000000.0            82884000000.0   \n",
       "2018-06-30      19903000000.0  110360000000.0            75302000000.0   \n",
       "\n",
       "           Cost Of Revenue Total Other Income Expense Net  \\\n",
       "                                                            \n",
       "2021-06-30   52232000000.0                   1186000000.0   \n",
       "2020-06-30   46078000000.0                   -109000000.0   \n",
       "2019-06-30   42910000000.0                    729000000.0   \n",
       "2018-06-30   38353000000.0                   1416000000.0   \n",
       "\n",
       "           Discontinued Operations Net Income From Continuing Ops  \\\n",
       "                                                                    \n",
       "2021-06-30                    None                  61271000000.0   \n",
       "2020-06-30                    None                  44281000000.0   \n",
       "2019-06-30                    None                  39240000000.0   \n",
       "2018-06-30                    None                  16571000000.0   \n",
       "\n",
       "           Net Income Applicable To Common Shares Operating Margin  \n",
       "                                                                    \n",
       "2021-06-30                          61271000000.0         0.415949  \n",
       "2020-06-30                          44281000000.0         0.371604  \n",
       "2019-06-30                          39240000000.0          0.34137  \n",
       "2018-06-30                          16571000000.0         0.317669  \n",
       "\n",
       "[4 rows x 23 columns]"
      ]
     },
     "execution_count": 3,
     "metadata": {},
     "output_type": "execute_result"
    }
   ],
   "source": [
    "# show financial statement\n",
    "financials = ticker.financials\n",
    "financials = financials.T\n",
    "\n",
    "financials['Operating Margin'] = np.divide(financials['Operating Income'], financials['Total Revenue'])\n",
    "\n",
    "financials.head(len(financials))\n"
   ]
  },
  {
   "cell_type": "code",
   "execution_count": 4,
   "id": "34304a74",
   "metadata": {
    "scrolled": true
   },
   "outputs": [
    {
     "data": {
      "text/plain": [
       "Text(0, 0.5, 'Current Ratio')"
      ]
     },
     "execution_count": 4,
     "metadata": {},
     "output_type": "execute_result"
    },
    {
     "data": {
      "image/png": "[encoded data removed]",
      "text/plain": [
       "<Figure size 432x288 with 1 Axes>"
      ]
     },
     "metadata": {
      "needs_background": "light"
     },
     "output_type": "display_data"
    }
   ],
   "source": [
    "plt.plot(balance['Current Ratio'])\n",
    "plt.title('Current Ratio for the Past 4 Years')\n",
    "plt.xticks(rotation = 45)\n",
    "plt.xlabel('Date')\n",
    "plt.ylabel('Current Ratio')"
   ]
  },
  {
   "cell_type": "code",
   "execution_count": 5,
   "id": "4357f451",
   "metadata": {},
   "outputs": [
    {
     "data": {
      "text/plain": [
       "Text(0, 0.5, 'Working Capital')"
      ]
     },
     "execution_count": 5,
     "metadata": {},
     "output_type": "execute_result"
    },
    {
     "data": {
      "image/png": "[encoded data removed]",
      "text/plain": [
       "<Figure size 432x288 with 1 Axes>"
      ]
     },
     "metadata": {
      "needs_background": "light"
     },
     "output_type": "display_data"
    }
   ],
   "source": [
    "plt.plot(balance['Working Capital'])\n",
    "plt.title('Working Capital for the Past 4 Years')\n",
    "plt.xticks(rotation = 45)\n",
    "plt.xlabel('Date')\n",
    "plt.ylabel('Working Capital')"
   ]
  },
  {
   "cell_type": "code",
   "execution_count": 6,
   "id": "0b832e89",
   "metadata": {},
   "outputs": [
    {
     "data": {
      "text/plain": [
       "Text(0, 0.5, 'Debt to Equity Ratio')"
      ]
     },
     "execution_count": 6,
     "metadata": {},
     "output_type": "execute_result"
    },
    {
     "data": {
      "image/png": "[encoded data removed]",
      "text/plain": [
       "<Figure size 432x288 with 1 Axes>"
      ]
     },
     "metadata": {
      "needs_background": "light"
     },
     "output_type": "display_data"
    }
   ],
   "source": [
    "plt.plot(balance['Debt to Equity'])\n",
    "plt.title('Debt to Equity Ratio for the Past 4 Years')\n",
    "plt.xticks(rotation = 45)\n",
    "plt.xlabel('Date')\n",
    "plt.ylabel('Debt to Equity Ratio')"
   ]
  },
  {
   "cell_type": "code",
   "execution_count": 7,
   "id": "8b9bde5b",
   "metadata": {},
   "outputs": [
    {
     "data": {
      "text/plain": [
       "Text(0, 0.5, 'Operating Margin')"
      ]
     },
     "execution_count": 7,
     "metadata": {},
     "output_type": "execute_result"
    },
    {
     "data": {
      "image/png": "[encoded data removed]",
      "text/plain": [
       "<Figure size 432x288 with 1 Axes>"
      ]
     },
     "metadata": {
      "needs_background": "light"
     },
     "output_type": "display_data"
    }
   ],
   "source": [
    "plt.plot(financials['Operating Margin'])\n",
    "plt.title('Operating Margin for the Past 4 Years')\n",
    "plt.xticks(rotation = 45)\n",
    "plt.xlabel('Date')\n",
    "plt.ylabel('Operating Margin')"
   ]
  },
  {
   "cell_type": "code",
   "execution_count": 9,
   "id": "5c4052f8",
   "metadata": {},
   "outputs": [
    {
     "data": {
      "application/vnd.plotly.v1+json": {
       "config": {
        "plotlyServerURL": "https://plot.ly"
       },
       "data": [
        {
         "hovertemplate": "Date=%{x}<br>Open=%{y}<extra></extra>",
         "legendgroup": "",
         "line": {
          "color": "#636efa",
          "dash": "solid"
         },
         "marker": {
          "symbol": "circle"
         },
         "mode": "lines",
         "name": "",
         "orientation": "v",
         "showlegend": false,
         "type": "scatter",
         "x": [
          "2018-10-01T00:00:00",
          "2018-10-02T00:00:00",
          "2018-10-03T00:00:00",
          "2018-10-04T00:00:00",
          "2018-10-05T00:00:00",
          "2018-10-08T00:00:00",
          "2018-10-09T00:00:00",
          "2018-10-10T00:00:00",
          "2018-10-11T00:00:00",
          "2018-10-12T00:00:00",
          "2018-10-15T00:00:00",
          "2018-10-16T00:00:00",
          "2018-10-17T00:00:00",
          "2018-10-18T00:00:00",
          "2018-10-19T00:00:00",
          "2018-10-22T00:00:00",
          "2018-10-23T00:00:00",
          "2018-10-24T00:00:00",
          "2018-10-25T00:00:00",
          "2018-10-26T00:00:00",
          "2018-10-29T00:00:00",
          "2018-10-30T00:00:00",
          "2018-10-31T00:00:00",
          "2018-11-01T00:00:00",
          "2018-11-02T00:00:00",
          "2018-11-05T00:00:00",
          "2018-11-06T00:00:00",
          "2018-11-07T00:00:00",
          "2018-11-08T00:00:00",
          "2018-11-09T00:00:00",
          "2018-11-12T00:00:00",
          "2018-11-13T00:00:00",
          "2018-11-14T00:00:00",
          "2018-11-15T00:00:00",
          "2018-11-16T00:00:00",
          "2018-11-19T00:00:00",
          "2018-11-20T00:00:00",
          "2018-11-21T00:00:00",
          "2018-11-23T00:00:00",
          "2018-11-26T00:00:00",
          "2018-11-27T00:00:00",
          "2018-11-28T00:00:00",
          "2018-11-29T00:00:00",
          "2018-11-30T00:00:00",
          "2018-12-03T00:00:00",
          "2018-12-04T00:00:00",
          "2018-12-06T00:00:00",
          "2018-12-07T00:00:00",
          "2018-12-10T00:00:00",
          "2018-12-11T00:00:00",
          "2018-12-12T00:00:00",
          "2018-12-13T00:00:00",
          "2018-12-14T00:00:00",
          "2018-12-17T00:00:00",
          "2018-12-18T00:00:00",
          "2018-12-19T00:00:00",
          "2018-12-20T00:00:00",
          "2018-12-21T00:00:00",
          "2018-12-24T00:00:00",
          "2018-12-26T00:00:00",
          "2018-12-27T00:00:00",
          "2018-12-28T00:00:00",
          "2018-12-31T00:00:00",
          "2019-01-02T00:00:00",
          "2019-01-03T00:00:00",
          "2019-01-04T00:00:00",
          "2019-01-07T00:00:00",
          "2019-01-08T00:00:00",
          "2019-01-09T00:00:00",
          "2019-01-10T00:00:00",
          "2019-01-11T00:00:00",
          "2019-01-14T00:00:00",
          "2019-01-15T00:00:00",
          "2019-01-16T00:00:00",
          "2019-01-17T00:00:00",
          "2019-01-18T00:00:00",
          "2019-01-22T00:00:00",
          "2019-01-23T00:00:00",
          "2019-01-24T00:00:00",
          "2019-01-25T00:00:00",
          "2019-01-28T00:00:00",
          "2019-01-29T00:00:00",
          "2019-01-30T00:00:00",
          "2019-01-31T00:00:00",
          "2019-02-01T00:00:00",
          "2019-02-04T00:00:00",
          "2019-02-05T00:00:00",
          "2019-02-06T00:00:00",
          "2019-02-07T00:00:00",
          "2019-02-08T00:00:00",
          "2019-02-11T00:00:00",
          "2019-02-12T00:00:00",
          "2019-02-13T00:00:00",
          "2019-02-14T00:00:00",
          "2019-02-15T00:00:00",
          "2019-02-19T00:00:00",
          "2019-02-20T00:00:00",
          "2019-02-21T00:00:00",
          "2019-02-22T00:00:00",
          "2019-02-25T00:00:00",
          "2019-02-26T00:00:00",
          "2019-02-27T00:00:00",
          "2019-02-28T00:00:00",
          "2019-03-01T00:00:00",
          "2019-03-04T00:00:00",
          "2019-03-05T00:00:00",
          "2019-03-06T00:00:00",
          "2019-03-07T00:00:00",
          "2019-03-08T00:00:00",
          "2019-03-11T00:00:00",
          "2019-03-12T00:00:00",
          "2019-03-13T00:00:00",
          "2019-03-14T00:00:00",
          "2019-03-15T00:00:00",
          "2019-03-18T00:00:00",
          "2019-03-19T00:00:00",
          "2019-03-20T00:00:00",
          "2019-03-21T00:00:00",
          "2019-03-22T00:00:00",
          "2019-03-25T00:00:00",
          "2019-03-26T00:00:00",
          "2019-03-27T00:00:00",
          "2019-03-28T00:00:00",
          "2019-03-29T00:00:00",
          "2019-04-01T00:00:00",
          "2019-04-02T00:00:00",
          "2019-04-03T00:00:00",
          "2019-04-04T00:00:00",
          "2019-04-05T00:00:00",
          "2019-04-08T00:00:00",
          "2019-04-09T00:00:00",
          "2019-04-10T00:00:00",
          "2019-04-11T00:00:00",
          "2019-04-12T00:00:00",
          "2019-04-15T00:00:00",
          "2019-04-16T00:00:00",
          "2019-04-17T00:00:00",
          "2019-04-18T00:00:00",
          "2019-04-22T00:00:00",
          "2019-04-23T00:00:00",
          "2019-04-24T00:00:00",
          "2019-04-25T00:00:00",
          "2019-04-26T00:00:00",
          "2019-04-29T00:00:00",
          "2019-04-30T00:00:00",
          "2019-05-01T00:00:00",
          "2019-05-02T00:00:00",
          "2019-05-03T00:00:00",
          "2019-05-06T00:00:00",
          "2019-05-07T00:00:00",
          "2019-05-08T00:00:00",
          "2019-05-09T00:00:00",
          "2019-05-10T00:00:00",
          "2019-05-13T00:00:00",
          "2019-05-14T00:00:00",
          "2019-05-15T00:00:00",
          "2019-05-16T00:00:00",
          "2019-05-17T00:00:00",
          "2019-05-20T00:00:00",
          "2019-05-21T00:00:00",
          "2019-05-22T00:00:00",
          "2019-05-23T00:00:00",
          "2019-05-24T00:00:00",
          "2019-05-28T00:00:00",
          "2019-05-29T00:00:00",
          "2019-05-30T00:00:00",
          "2019-05-31T00:00:00",
          "2019-06-03T00:00:00",
          "2019-06-04T00:00:00",
          "2019-06-05T00:00:00",
          "2019-06-06T00:00:00",
          "2019-06-07T00:00:00",
          "2019-06-10T00:00:00",
          "2019-06-11T00:00:00",
          "2019-06-12T00:00:00",
          "2019-06-13T00:00:00",
          "2019-06-14T00:00:00",
          "2019-06-17T00:00:00",
          "2019-06-18T00:00:00",
          "2019-06-19T00:00:00",
          "2019-06-20T00:00:00",
          "2019-06-21T00:00:00",
          "2019-06-24T00:00:00",
          "2019-06-25T00:00:00",
          "2019-06-26T00:00:00",
          "2019-06-27T00:00:00",
          "2019-06-28T00:00:00",
          "2019-07-01T00:00:00",
          "2019-07-02T00:00:00",
          "2019-07-03T00:00:00",
          "2019-07-05T00:00:00",
          "2019-07-08T00:00:00",
          "2019-07-09T00:00:00",
          "2019-07-10T00:00:00",
          "2019-07-11T00:00:00",
          "2019-07-12T00:00:00",
          "2019-07-15T00:00:00",
          "2019-07-16T00:00:00",
          "2019-07-17T00:00:00",
          "2019-07-18T00:00:00",
          "2019-07-19T00:00:00",
          "2019-07-22T00:00:00",
          "2019-07-23T00:00:00",
          "2019-07-24T00:00:00",
          "2019-07-25T00:00:00",
          "2019-07-26T00:00:00",
          "2019-07-29T00:00:00",
          "2019-07-30T00:00:00",
          "2019-07-31T00:00:00",
          "2019-08-01T00:00:00",
          "2019-08-02T00:00:00",
          "2019-08-05T00:00:00",
          "2019-08-06T00:00:00",
          "2019-08-07T00:00:00",
          "2019-08-08T00:00:00",
          "2019-08-09T00:00:00",
          "2019-08-12T00:00:00",
          "2019-08-13T00:00:00",
          "2019-08-14T00:00:00",
          "2019-08-15T00:00:00",
          "2019-08-16T00:00:00",
          "2019-08-19T00:00:00",
          "2019-08-20T00:00:00",
          "2019-08-21T00:00:00",
          "2019-08-22T00:00:00",
          "2019-08-23T00:00:00",
          "2019-08-26T00:00:00",
          "2019-08-27T00:00:00",
          "2019-08-28T00:00:00",
          "2019-08-29T00:00:00",
          "2019-08-30T00:00:00",
          "2019-09-03T00:00:00",
          "2019-09-04T00:00:00",
          "2019-09-05T00:00:00",
          "2019-09-06T00:00:00",
          "2019-09-09T00:00:00",
          "2019-09-10T00:00:00",
          "2019-09-11T00:00:00",
          "2019-09-12T00:00:00",
          "2019-09-13T00:00:00",
          "2019-09-16T00:00:00",
          "2019-09-17T00:00:00",
          "2019-09-18T00:00:00",
          "2019-09-19T00:00:00",
          "2019-09-20T00:00:00",
          "2019-09-23T00:00:00",
          "2019-09-24T00:00:00",
          "2019-09-25T00:00:00",
          "2019-09-26T00:00:00",
          "2019-09-27T00:00:00",
          "2019-09-30T00:00:00",
          "2019-10-01T00:00:00",
          "2019-10-02T00:00:00",
          "2019-10-03T00:00:00",
          "2019-10-04T00:00:00",
          "2019-10-07T00:00:00",
          "2019-10-08T00:00:00",
          "2019-10-09T00:00:00",
          "2019-10-10T00:00:00",
          "2019-10-11T00:00:00",
          "2019-10-14T00:00:00",
          "2019-10-15T00:00:00",
          "2019-10-16T00:00:00",
          "2019-10-17T00:00:00",
          "2019-10-18T00:00:00",
          "2019-10-21T00:00:00",
          "2019-10-22T00:00:00",
          "2019-10-23T00:00:00",
          "2019-10-24T00:00:00",
          "2019-10-25T00:00:00",
          "2019-10-28T00:00:00",
          "2019-10-29T00:00:00",
          "2019-10-30T00:00:00",
          "2019-10-31T00:00:00",
          "2019-11-01T00:00:00",
          "2019-11-04T00:00:00",
          "2019-11-05T00:00:00",
          "2019-11-06T00:00:00",
          "2019-11-07T00:00:00",
          "2019-11-08T00:00:00",
          "2019-11-11T00:00:00",
          "2019-11-12T00:00:00",
          "2019-11-13T00:00:00",
          "2019-11-14T00:00:00",
          "2019-11-15T00:00:00",
          "2019-11-18T00:00:00",
          "2019-11-19T00:00:00",
          "2019-11-20T00:00:00",
          "2019-11-21T00:00:00",
          "2019-11-22T00:00:00",
          "2019-11-25T00:00:00",
          "2019-11-26T00:00:00",
          "2019-11-27T00:00:00",
          "2019-11-29T00:00:00",
          "2019-12-02T00:00:00",
          "2019-12-03T00:00:00",
          "2019-12-04T00:00:00",
          "2019-12-05T00:00:00",
          "2019-12-06T00:00:00",
          "2019-12-09T00:00:00",
          "2019-12-10T00:00:00",
          "2019-12-11T00:00:00",
          "2019-12-12T00:00:00",
          "2019-12-13T00:00:00",
          "2019-12-16T00:00:00",
          "2019-12-17T00:00:00",
          "2019-12-18T00:00:00",
          "2019-12-19T00:00:00",
          "2019-12-20T00:00:00",
          "2019-12-23T00:00:00",
          "2019-12-24T00:00:00",
          "2019-12-26T00:00:00",
          "2019-12-27T00:00:00",
          "2019-12-30T00:00:00",
          "2019-12-31T00:00:00",
          "2020-01-02T00:00:00",
          "2020-01-03T00:00:00",
          "2020-01-06T00:00:00",
          "2020-01-07T00:00:00",
          "2020-01-08T00:00:00",
          "2020-01-09T00:00:00",
          "2020-01-10T00:00:00",
          "2020-01-13T00:00:00",
          "2020-01-14T00:00:00",
          "2020-01-15T00:00:00",
          "2020-01-16T00:00:00",
          "2020-01-17T00:00:00",
          "2020-01-21T00:00:00",
          "2020-01-22T00:00:00",
          "2020-01-23T00:00:00",
          "2020-01-24T00:00:00",
          "2020-01-27T00:00:00",
          "2020-01-28T00:00:00",
          "2020-01-29T00:00:00",
          "2020-01-30T00:00:00",
          "2020-01-31T00:00:00",
          "2020-02-03T00:00:00",
          "2020-02-04T00:00:00",
          "2020-02-05T00:00:00",
          "2020-02-06T00:00:00",
          "2020-02-07T00:00:00",
          "2020-02-10T00:00:00",
          "2020-02-11T00:00:00",
          "2020-02-12T00:00:00",
          "2020-02-13T00:00:00",
          "2020-02-14T00:00:00",
          "2020-02-18T00:00:00",
          "2020-02-19T00:00:00",
          "2020-02-20T00:00:00",
          "2020-02-21T00:00:00",
          "2020-02-24T00:00:00",
          "2020-02-25T00:00:00",
          "2020-02-26T00:00:00",
          "2020-02-27T00:00:00",
          "2020-02-28T00:00:00",
          "2020-03-02T00:00:00",
          "2020-03-03T00:00:00",
          "2020-03-04T00:00:00",
          "2020-03-05T00:00:00",
          "2020-03-06T00:00:00",
          "2020-03-09T00:00:00",
          "2020-03-10T00:00:00",
          "2020-03-11T00:00:00",
          "2020-03-12T00:00:00",
          "2020-03-13T00:00:00",
          "2020-03-16T00:00:00",
          "2020-03-17T00:00:00",
          "2020-03-18T00:00:00",
          "2020-03-19T00:00:00",
          "2020-03-20T00:00:00",
          "2020-03-23T00:00:00",
          "2020-03-24T00:00:00",
          "2020-03-25T00:00:00",
          "2020-03-26T00:00:00",
          "2020-03-27T00:00:00",
          "2020-03-30T00:00:00",
          "2020-03-31T00:00:00",
          "2020-04-01T00:00:00",
          "2020-04-02T00:00:00",
          "2020-04-03T00:00:00",
          "2020-04-06T00:00:00",
          "2020-04-07T00:00:00",
          "2020-04-08T00:00:00",
          "2020-04-09T00:00:00",
          "2020-04-13T00:00:00",
          "2020-04-14T00:00:00",
          "2020-04-15T00:00:00",
          "2020-04-16T00:00:00",
          "2020-04-17T00:00:00",
          "2020-04-20T00:00:00",
          "2020-04-21T00:00:00",
          "2020-04-22T00:00:00",
          "2020-04-23T00:00:00",
          "2020-04-24T00:00:00",
          "2020-04-27T00:00:00",
          "2020-04-28T00:00:00",
          "2020-04-29T00:00:00",
          "2020-04-30T00:00:00",
          "2020-05-01T00:00:00",
          "2020-05-04T00:00:00",
          "2020-05-05T00:00:00",
          "2020-05-06T00:00:00",
          "2020-05-07T00:00:00",
          "2020-05-08T00:00:00",
          "2020-05-11T00:00:00",
          "2020-05-12T00:00:00",
          "2020-05-13T00:00:00",
          "2020-05-14T00:00:00",
          "2020-05-15T00:00:00",
          "2020-05-18T00:00:00",
          "2020-05-19T00:00:00",
          "2020-05-20T00:00:00",
          "2020-05-21T00:00:00",
          "2020-05-22T00:00:00",
          "2020-05-26T00:00:00",
          "2020-05-27T00:00:00",
          "2020-05-28T00:00:00",
          "2020-05-29T00:00:00",
          "2020-06-01T00:00:00",
          "2020-06-02T00:00:00",
          "2020-06-03T00:00:00",
          "2020-06-04T00:00:00",
          "2020-06-05T00:00:00",
          "2020-06-08T00:00:00",
          "2020-06-09T00:00:00",
          "2020-06-10T00:00:00",
          "2020-06-11T00:00:00",
          "2020-06-12T00:00:00",
          "2020-06-15T00:00:00",
          "2020-06-16T00:00:00",
          "2020-06-17T00:00:00",
          "2020-06-18T00:00:00",
          "2020-06-19T00:00:00",
          "2020-06-22T00:00:00",
          "2020-06-23T00:00:00",
          "2020-06-24T00:00:00",
          "2020-06-25T00:00:00",
          "2020-06-26T00:00:00",
          "2020-06-29T00:00:00",
          "2020-06-30T00:00:00",
          "2020-07-01T00:00:00",
          "2020-07-02T00:00:00",
          "2020-07-06T00:00:00",
          "2020-07-07T00:00:00",
          "2020-07-08T00:00:00",
          "2020-07-09T00:00:00",
          "2020-07-10T00:00:00",
          "2020-07-13T00:00:00",
          "2020-07-14T00:00:00",
          "2020-07-15T00:00:00",
          "2020-07-16T00:00:00",
          "2020-07-17T00:00:00",
          "2020-07-20T00:00:00",
          "2020-07-21T00:00:00",
          "2020-07-22T00:00:00",
          "2020-07-23T00:00:00",
          "2020-07-24T00:00:00",
          "2020-07-27T00:00:00",
          "2020-07-28T00:00:00",
          "2020-07-29T00:00:00",
          "2020-07-30T00:00:00",
          "2020-07-31T00:00:00",
          "2020-08-03T00:00:00",
          "2020-08-04T00:00:00",
          "2020-08-05T00:00:00",
          "2020-08-06T00:00:00",
          "2020-08-07T00:00:00",
          "2020-08-10T00:00:00",
          "2020-08-11T00:00:00",
          "2020-08-12T00:00:00",
          "2020-08-13T00:00:00",
          "2020-08-14T00:00:00",
          "2020-08-17T00:00:00",
          "2020-08-18T00:00:00",
          "2020-08-19T00:00:00",
          "2020-08-20T00:00:00",
          "2020-08-21T00:00:00",
          "2020-08-24T00:00:00",
          "2020-08-25T00:00:00",
          "2020-08-26T00:00:00",
          "2020-08-27T00:00:00",
          "2020-08-28T00:00:00",
          "2020-08-31T00:00:00",
          "2020-09-01T00:00:00",
          "2020-09-02T00:00:00",
          "2020-09-03T00:00:00",
          "2020-09-04T00:00:00",
          "2020-09-08T00:00:00",
          "2020-09-09T00:00:00",
          "2020-09-10T00:00:00",
          "2020-09-11T00:00:00",
          "2020-09-14T00:00:00",
          "2020-09-15T00:00:00",
          "2020-09-16T00:00:00",
          "2020-09-17T00:00:00",
          "2020-09-18T00:00:00",
          "2020-09-21T00:00:00",
          "2020-09-22T00:00:00",
          "2020-09-23T00:00:00",
          "2020-09-24T00:00:00",
          "2020-09-25T00:00:00",
          "2020-09-28T00:00:00",
          "2020-09-29T00:00:00",
          "2020-09-30T00:00:00",
          "2020-10-01T00:00:00",
          "2020-10-02T00:00:00",
          "2020-10-05T00:00:00",
          "2020-10-06T00:00:00",
          "2020-10-07T00:00:00",
          "2020-10-08T00:00:00",
          "2020-10-09T00:00:00",
          "2020-10-12T00:00:00",
          "2020-10-13T00:00:00",
          "2020-10-14T00:00:00",
          "2020-10-15T00:00:00",
          "2020-10-16T00:00:00",
          "2020-10-19T00:00:00",
          "2020-10-20T00:00:00",
          "2020-10-21T00:00:00",
          "2020-10-22T00:00:00",
          "2020-10-23T00:00:00",
          "2020-10-26T00:00:00",
          "2020-10-27T00:00:00",
          "2020-10-28T00:00:00",
          "2020-10-29T00:00:00",
          "2020-10-30T00:00:00",
          "2020-11-02T00:00:00",
          "2020-11-03T00:00:00",
          "2020-11-04T00:00:00",
          "2020-11-05T00:00:00",
          "2020-11-06T00:00:00",
          "2020-11-09T00:00:00",
          "2020-11-10T00:00:00",
          "2020-11-11T00:00:00",
          "2020-11-12T00:00:00",
          "2020-11-13T00:00:00",
          "2020-11-16T00:00:00",
          "2020-11-17T00:00:00",
          "2020-11-18T00:00:00",
          "2020-11-19T00:00:00",
          "2020-11-20T00:00:00",
          "2020-11-23T00:00:00",
          "2020-11-24T00:00:00",
          "2020-11-25T00:00:00",
          "2020-11-27T00:00:00",
          "2020-11-30T00:00:00",
          "2020-12-01T00:00:00",
          "2020-12-02T00:00:00",
          "2020-12-03T00:00:00",
          "2020-12-04T00:00:00",
          "2020-12-07T00:00:00",
          "2020-12-08T00:00:00",
          "2020-12-09T00:00:00",
          "2020-12-10T00:00:00",
          "2020-12-11T00:00:00",
          "2020-12-14T00:00:00",
          "2020-12-15T00:00:00",
          "2020-12-16T00:00:00",
          "2020-12-17T00:00:00",
          "2020-12-18T00:00:00",
          "2020-12-21T00:00:00",
          "2020-12-22T00:00:00",
          "2020-12-23T00:00:00",
          "2020-12-24T00:00:00",
          "2020-12-28T00:00:00",
          "2020-12-29T00:00:00",
          "2020-12-30T00:00:00",
          "2020-12-31T00:00:00",
          "2021-01-04T00:00:00",
          "2021-01-05T00:00:00",
          "2021-01-06T00:00:00",
          "2021-01-07T00:00:00",
          "2021-01-08T00:00:00",
          "2021-01-11T00:00:00",
          "2021-01-12T00:00:00",
          "2021-01-13T00:00:00",
          "2021-01-14T00:00:00",
          "2021-01-15T00:00:00",
          "2021-01-19T00:00:00",
          "2021-01-20T00:00:00",
          "2021-01-21T00:00:00",
          "2021-01-22T00:00:00",
          "2021-01-25T00:00:00",
          "2021-01-26T00:00:00",
          "2021-01-27T00:00:00",
          "2021-01-28T00:00:00",
          "2021-01-29T00:00:00",
          "2021-02-01T00:00:00",
          "2021-02-02T00:00:00",
          "2021-02-03T00:00:00",
          "2021-02-04T00:00:00",
          "2021-02-05T00:00:00",
          "2021-02-08T00:00:00",
          "2021-02-09T00:00:00",
          "2021-02-10T00:00:00",
          "2021-02-11T00:00:00",
          "2021-02-12T00:00:00",
          "2021-02-16T00:00:00",
          "2021-02-17T00:00:00",
          "2021-02-18T00:00:00",
          "2021-02-19T00:00:00",
          "2021-02-22T00:00:00",
          "2021-02-23T00:00:00",
          "2021-02-24T00:00:00",
          "2021-02-25T00:00:00",
          "2021-02-26T00:00:00",
          "2021-03-01T00:00:00",
          "2021-03-02T00:00:00",
          "2021-03-03T00:00:00",
          "2021-03-04T00:00:00",
          "2021-03-05T00:00:00",
          "2021-03-08T00:00:00",
          "2021-03-09T00:00:00",
          "2021-03-10T00:00:00",
          "2021-03-11T00:00:00",
          "2021-03-12T00:00:00",
          "2021-03-15T00:00:00",
          "2021-03-16T00:00:00",
          "2021-03-17T00:00:00",
          "2021-03-18T00:00:00",
          "2021-03-19T00:00:00",
          "2021-03-22T00:00:00",
          "2021-03-23T00:00:00",
          "2021-03-24T00:00:00",
          "2021-03-25T00:00:00",
          "2021-03-26T00:00:00",
          "2021-03-29T00:00:00",
          "2021-03-30T00:00:00",
          "2021-03-31T00:00:00",
          "2021-04-01T00:00:00",
          "2021-04-05T00:00:00",
          "2021-04-06T00:00:00",
          "2021-04-07T00:00:00",
          "2021-04-08T00:00:00",
          "2021-04-09T00:00:00",
          "2021-04-12T00:00:00",
          "2021-04-13T00:00:00",
          "2021-04-14T00:00:00",
          "2021-04-15T00:00:00",
          "2021-04-16T00:00:00",
          "2021-04-19T00:00:00",
          "2021-04-20T00:00:00",
          "2021-04-21T00:00:00",
          "2021-04-22T00:00:00",
          "2021-04-23T00:00:00",
          "2021-04-26T00:00:00",
          "2021-04-27T00:00:00",
          "2021-04-28T00:00:00",
          "2021-04-29T00:00:00",
          "2021-04-30T00:00:00",
          "2021-05-03T00:00:00",
          "2021-05-04T00:00:00",
          "2021-05-05T00:00:00",
          "2021-05-06T00:00:00",
          "2021-05-07T00:00:00",
          "2021-05-10T00:00:00",
          "2021-05-11T00:00:00",
          "2021-05-12T00:00:00",
          "2021-05-13T00:00:00",
          "2021-05-14T00:00:00",
          "2021-05-17T00:00:00",
          "2021-05-18T00:00:00",
          "2021-05-19T00:00:00",
          "2021-05-20T00:00:00",
          "2021-05-21T00:00:00",
          "2021-05-24T00:00:00",
          "2021-05-25T00:00:00",
          "2021-05-26T00:00:00",
          "2021-05-27T00:00:00",
          "2021-05-28T00:00:00",
          "2021-06-01T00:00:00",
          "2021-06-02T00:00:00",
          "2021-06-03T00:00:00",
          "2021-06-04T00:00:00",
          "2021-06-07T00:00:00",
          "2021-06-08T00:00:00",
          "2021-06-09T00:00:00",
          "2021-06-10T00:00:00",
          "2021-06-11T00:00:00",
          "2021-06-14T00:00:00",
          "2021-06-15T00:00:00",
          "2021-06-16T00:00:00",
          "2021-06-17T00:00:00",
          "2021-06-18T00:00:00",
          "2021-06-21T00:00:00",
          "2021-06-22T00:00:00",
          "2021-06-23T00:00:00",
          "2021-06-24T00:00:00",
          "2021-06-25T00:00:00",
          "2021-06-28T00:00:00",
          "2021-06-29T00:00:00",
          "2021-06-30T00:00:00",
          "2021-07-01T00:00:00",
          "2021-07-02T00:00:00",
          "2021-07-06T00:00:00",
          "2021-07-07T00:00:00",
          "2021-07-08T00:00:00",
          "2021-07-09T00:00:00",
          "2021-07-12T00:00:00",
          "2021-07-13T00:00:00",
          "2021-07-14T00:00:00",
          "2021-07-15T00:00:00",
          "2021-07-16T00:00:00",
          "2021-07-19T00:00:00",
          "2021-07-20T00:00:00",
          "2021-07-21T00:00:00",
          "2021-07-22T00:00:00",
          "2021-07-23T00:00:00",
          "2021-07-26T00:00:00",
          "2021-07-27T00:00:00",
          "2021-07-28T00:00:00",
          "2021-07-29T00:00:00",
          "2021-07-30T00:00:00",
          "2021-08-02T00:00:00",
          "2021-08-03T00:00:00",
          "2021-08-04T00:00:00",
          "2021-08-05T00:00:00",
          "2021-08-06T00:00:00",
          "2021-08-09T00:00:00",
          "2021-08-10T00:00:00",
          "2021-08-11T00:00:00",
          "2021-08-12T00:00:00",
          "2021-08-13T00:00:00",
          "2021-08-16T00:00:00",
          "2021-08-17T00:00:00",
          "2021-08-18T00:00:00",
          "2021-08-19T00:00:00",
          "2021-08-20T00:00:00",
          "2021-08-23T00:00:00",
          "2021-08-24T00:00:00",
          "2021-08-25T00:00:00",
          "2021-08-26T00:00:00",
          "2021-08-27T00:00:00",
          "2021-08-30T00:00:00",
          "2021-08-31T00:00:00",
          "2021-09-01T00:00:00",
          "2021-09-02T00:00:00",
          "2021-09-03T00:00:00",
          "2021-09-07T00:00:00",
          "2021-09-08T00:00:00",
          "2021-09-09T00:00:00",
          "2021-09-10T00:00:00",
          "2021-09-13T00:00:00",
          "2021-09-14T00:00:00",
          "2021-09-15T00:00:00",
          "2021-09-16T00:00:00",
          "2021-09-17T00:00:00",
          "2021-09-20T00:00:00",
          "2021-09-21T00:00:00",
          "2021-09-22T00:00:00",
          "2021-09-23T00:00:00",
          "2021-09-24T00:00:00"
         ],
         "xaxis": "x",
         "y": [
          110.48526279934698,
          111.01480320821175,
          111.13036471026932,
          110.35044165920267,
          108.44402549151768,
          107.51009496793026,
          107.00941427393879,
          107.1056934527163,
          101.43460078013032,
          104.95856449493887,
          104.86230075800246,
          105.46887365701714,
          107.52935620988106,
          106.00806282194598,
          104.88155171704648,
          105.25705804455605,
          103.7646527389455,
          104.38089318260575,
          102.59001076709639,
          101.76197521111025,
          104.09202532835803,
          99.80741115520772,
          101.52126876876179,
          103.07142122494179,
          102.5226071323611,
          102.41669737881642,
          103.38916230793356,
          105.37260301952996,
          107.64490064505436,
          106.73017600320759,
          105.35334042786229,
          103.55284472007999,
          104.5320285204987,
          101.52469575748256,
          103.54572784358322,
          104.69643022933181,
          98.43999197538487,
          100.18057394257674,
          98.79776432311427,
          101.33126850056125,
          102.76244187157288,
          104.32897600536326,
          106.68843335851307,
          107.0462111382159,
          109.27030301132734,
          108.24530389451478,
          102.32729507306705,
          104.80278611851207,
          101.34096523477523,
          106.17593614847486,
          107.2299625651624,
          105.96318492697829,
          104.67709269048879,
          101.93083209245037,
          100.3256207496047,
          100.22892799787752,
          99.64874051963214,
          98.27558927765149,
          94.45596358906614,
          91.99980772959704,
          96.02250053338491,
          98.72041736286245,
          97.94681033965928,
          96.26425232373025,
          96.79608402634,
          96.42864090495497,
          98.28527053662374,
          99.63905890744682,
          100.43198939203714,
          99.81310986047637,
          99.78410947752114,
          98.53667399649316,
          99.1265445398557,
          101.7857827722438,
          101.53435768904122,
          103.91317398620882,
          103.22661602855796,
          102.61739674901358,
          103.33295975512797,
          103.70044075382646,
          102.7527702812639,
          101.41831384935584,
          101.16691604365145,
          100.37397366038088,
          100.35463590447276,
          99.47466360711454,
          102.55937479823952,
          103.4683502806679,
          101.71810201897007,
          100.94449987613478,
          102.69474134210944,
          102.63673877971094,
          103.95185038357691,
          102.80112045122848,
          104.34832078389466,
          104.23226880592298,
          104.74540515605175,
          103.81311846139978,
          106.87215492106836,
          108.53278006031806,
          108.04722863211596,
          108.46481111163504,
          108.80468859126611,
          109.63016087205719,
          109.75638969064866,
          109.00863883811353,
          108.63960879798603,
          108.18317613378774,
          106.00786270935954,
          107.78502027607212,
          109.56218643900581,
          110.8343385068591,
          111.23249990037819,
          112.00938733612641,
          112.81544358683395,
          114.6799825226693,
          114.0002061760758,
          113.75742668306276,
          116.04927871751607,
          113.1941786331327,
          115.19468485974285,
          114.47606502101712,
          114.04876482543881,
          114.66057568992046,
          115.51515915074779,
          115.62198678548208,
          116.39889021407947,
          116.63194421704151,
          115.94244722810707,
          116.35032040661724,
          115.20439285735509,
          116.3017692603911,
          117.059243606547,
          117.1563591231102,
          117.44771070505507,
          118.12748833321645,
          117.73903639365744,
          118.66159189155647,
          119.07919123777725,
          120.51645461826796,
          122.15765230992693,
          126.30433456349259,
          125.95475869722729,
          126.14894869814853,
          126.06154706967017,
          126.76077325001255,
          124.28440660126255,
          123.68230210593944,
          122.74032106946794,
          122.80829776378545,
          121.81774857206031,
          120.70095601451139,
          121.30305796139275,
          120.52616492401121,
          120.29309838531086,
          121.11850826465428,
          123.54556912517062,
          125.0661143623775,
          123.32137224815666,
          124.20836438695294,
          123.41883387683215,
          123.00946607262497,
          123.70151362399054,
          123.76975069533029,
          122.21019735783354,
          122.09323459525156,
          121.08926733282367,
          120.71888007423816,
          118.21385027162452,
          121.79106958801205,
          123.2433998585454,
          125.92386840541909,
          129.0526641201159,
          130.4952971517116,
          128.07798974992247,
          128.6433311423508,
          128.9162415664494,
          129.27689379047445,
          130.7974723447294,
          131.58697869459706,
          133.97504537274986,
          133.12704729019887,
          133.53642795045158,
          133.78010263174386,
          130.95341640211208,
          130.74874205577933,
          131.16788213180462,
          133.175780762401,
          132.67868286413218,
          133.34148451125984,
          132.50322975278954,
          132.95159693102042,
          132.5617242363701,
          133.66314598324513,
          134.706090773018,
          135.33965793565304,
          135.91473823124824,
          135.4468858936171,
          134.21873041045345,
          132.123099493214,
          136.6750232794584,
          133.9360500813325,
          136.22661240333358,
          135.38840434348933,
          136.87969009606013,
          136.821215090921,
          137.92267273440575,
          136.59706036782538,
          136.78224474718266,
          133.53644182628014,
          134.59885152636448,
          129.929978039568,
          130.4173217961714,
          130.4075883219317,
          133.146548112477,
          135.10572576853107,
          133.6046631690261,
          132.6104278812184,
          133.35519313747446,
          131.42861410860837,
          131.9077939781846,
          134.81237355291898,
          135.16441406275982,
          135.496957053453,
          135.60454040550664,
          134.16690458459203,
          132.01540053533535,
          133.3845416343861,
          131.90780649650057,
          134.22557673960367,
          136.08369538971715,
          133.59969837887024,
          134.2744989999075,
          136.0446240687216,
          136.94432006216002,
          136.51401739121167,
          133.78551056630482,
          132.9151192711065,
          134.81236925490086,
          134.74392261270577,
          132.83685417331182,
          133.9419703906295,
          134.33314840281216,
          137.208373944722,
          137.90273623084252,
          136.1619725608601,
          137.26706679991833,
          134.47006393340615,
          136.3673309413701,
          137.06167893681004,
          135.00796883414793,
          136.58249979983324,
          133.24764075199485,
          131.97625297126635,
          133.7365946749785,
          134.1180284308531,
          134.05935321961923,
          134.4309301630337,
          135.43826182243853,
          137.03231155453054,
          136.61182894935956,
          136.97367333668046,
          137.68754941213177,
          137.84407667316137,
          136.6802562248842,
          135.39911057713022,
          135.9076878988632,
          133.86373736350257,
          136.3184095079622,
          136.26952141625443,
          141.2180289267157,
          140.90505694637184,
          140.35742350251854,
          141.70700792300283,
          141.0811184251587,
          141.63854433411942,
          141.77545920831713,
          141.18869509670583,
          140.67035731868563,
          140.8072726036251,
          142.1372985485634,
          143.05660826546196,
          143.50647197472884,
          143.7802871759864,
          145.64820729433163,
          146.763090544587,
          147.55522706459374,
          147.49798615477047,
          146.60501230274028,
          147.26250435097433,
          147.19378723195592,
          148.52835769012995,
          149.48019021859233,
          149.25452033489054,
          148.96994240632614,
          144.73077976552506,
          147.33118369892333,
          147.2428414949335,
          148.1652951937666,
          148.24378275154078,
          148.45963813932207,
          148.7049891916795,
          148.81291861976734,
          150.13766265723132,
          152.208190001781,
          152.54182750168476,
          151.41335775178615,
          151.11896592628568,
          154.4062890653069,
          155.16187306028888,
          154.53386545874787,
          154.61234925516843,
          156.46699901145828,
          156.01561768623807,
          153.8371614249224,
          155.80953866346525,
          155.35813601439935,
          154.14135413829382,
          156.33944192256425,
          155.95674457977734,
          158.81227895147248,
          159.77396288506947,
          158.73378901853795,
          160.33330059146508,
          159.57770663693645,
          161.27535085018076,
          164.28789785242213,
          163.56171139784428,
          164.2682758129741,
          163.0808839596333,
          164.37621550369659,
          158.13516927612395,
          160.71599992796052,
          164.70003062335675,
          170.79386765526374,
          168.98827194096887,
          167.2415461230114,
          173.8260442858992,
          180.58716455703336,
          177.58440099724083,
          179.42924624452095,
          180.14557464627825,
          187.0833169916756,
          182.1081595015126,
          179.65495928673334,
          179.82175763297536,
          182.1376066910392,
          185.04580213791468,
          183.9536056486784,
          180.23417914332137,
          165.08102763755073,
          171.40796029253767,
          166.98994706407328,
          160.7023458435341,
          149.96722035913047,
          162.6604601724492,
          171.01437060341945,
          165.7894718136417,
          163.38861216155075,
          160.00371691781123,
          148.57981637583586,
          155.62504717943227,
          154.61159770766196,
          142.97116891655742,
          145.13588108577864,
          137.7560903606075,
          137.75613464295662,
          135.78817648116225,
          140.48173491261838,
          143.65995998386913,
          134.81402728603348,
          141.44600405694118,
          146.5233109833733,
          146.0214629178822,
          149.31777458354563,
          149.99674273325755,
          156.84516668391373,
          150.5477623368628,
          149.42603041899176,
          152.61413593383725,
          157.75044904325654,
          166.8718664638339,
          163.014675794588,
          163.6936266863163,
          161.715857542674,
          166.29130346516828,
          168.45602846214817,
          171.50637905495748,
          176.6229956607286,
          173.79900916288577,
          170.71918905840676,
          168.64298041291468,
          171.3194190370354,
          169.3022687209185,
          173.7596589270586,
          172.77569179786838,
          170.44366705333744,
          177.11500848850466,
          172.98234602271668,
          171.69330202885297,
          177.72506796803899,
          179.16166950198237,
          181.2181745120987,
          182.01519592014927,
          180.21449209464296,
          183.8060273779483,
          179.6241439606098,
          174.6944527721267,
          176.190072906961,
          182.7728680276099,
          182.06438375409357,
          182.35437289378882,
          182.9365161314866,
          180.75588455134326,
          183.8640491348799,
          177.80563321509274,
          178.33843568607568,
          180.3020144134371,
          180.1145101996952,
          181.80179950722305,
          182.3642459828242,
          181.85115504895978,
          180.19346995644338,
          183.46933515450078,
          185.50199027505454,
          188.59039692323813,
          190.56381696337817,
          188.00822098666245,
          182.12743631765713,
          190.3270133702271,
          192.4385539334057,
          191.4222453114512,
          195.95127039656634,
          193.1884827233272,
          199.4047433729946,
          198.92127662359417,
          195.1717805878103,
          197.07611523716224,
          193.17860906617955,
          195.2507107703155,
          200.44081787265614,
          202.94705299412595,
          206.05521220095133,
          207.65367498342732,
          207.27875344097026,
          213.4555465010492,
          210.78154819787937,
          211.6301172857377,
          203.39110053151362,
          206.77550326434158,
          202.6707797790379,
          201.7531346202076,
          202.27609674706568,
          210.82103547014654,
          206.42029620085458,
          204.43702413869153,
          197.7569474497295,
          198.7930069186133,
          200.90456285620385,
          199.80931766457226,
          198.32924366842553,
          201.68405440390876,
          208.709478494935,
          211.32425988112223,
          212.0445286812611,
          209.51855353073154,
          211.99521164372283,
          208.8574656255606,
          204.407400250124,
          202.56222739289356,
          206.65711374833808,
          205.98614365724904,
          206.8149740325111,
          207.73261980577712,
          209.18432737073746,
          207.25556919087973,
          211.52847042196086,
          212.44831961964056,
          210.77676089639138,
          215.504644056322,
          220.46002860875498,
          225.69234587803987,
          224.5252030163865,
          223.05146015569363,
          225.484638862359,
          226.77047189828053,
          212.75496961956878,
          204.24872450650628,
          205.33670728584895,
          211.07346615230904,
          204.94105642894198,
          202.01335058676722,
          206.14776938980327,
          208.32379692835488,
          197.86904008897432,
          200.58903632062854,
          195.04022889714474,
          202.82440459601412,
          205.63342437377284,
          197.6712093177752,
          201.33086926715114,
          208.58096534644326,
          207.06765334676072,
          205.46529628839568,
          211.16250738048527,
          205.73235763125933,
          204.960857694128,
          206.5434242956488,
          204.80259889784577,
          208.21498137053018,
          208.92714418420874,
          216.40470591102687,
          220.29187053503105,
          220.56883260729842,
          214.73314029611547,
          217.74987653856735,
          218.01695592458373,
          213.4473318808377,
          210.79651405818032,
          211.59770061269654,
          212.6857204250916,
          211.51857587705672,
          209.28321900186629,
          205.40595605438156,
          201.8452058367025,
          201.28138847518673,
          202.06278401331483,
          201.66715676059965,
          211.68674179889635,
          219.61927954537794,
          219.8368858196831,
          221.99310831235096,
          212.16149065089107,
          210.07448219946085,
          214.8419396304788,
          214.00120801223397,
          212.52746838289661,
          213.7440528646496,
          211.8739917253423,
          209.62288760117823,
          210.43608045968958,
          209.1964475967108,
          207.8477508533754,
          213.32187616213423,
          213.06404127482665,
          212.3202767549646,
          212.7268391957862,
          213.09379476928302,
          212.82602592800126,
          212.43925886292462,
          212.58801905730328,
          212.1913352699667,
          213.37146852366578,
          210.00962868533458,
          208.3039356599003,
          211.3285865558222,
          213.38136956895985,
          212.96487159250182,
          218.04231039426347,
          216.7729339599609,
          215.74158743973413,
          220.83886671791697,
          221.25536215855664,
          219.57941519087606,
          222.58422609718164,
          224.4287763522408,
          223.35774295916238,
          219.85708983056645,
          220.68019550438507,
          215.4539895206695,
          210.4063046751149,
          212.2607619490295,
          216.86218402166034,
          216.65394780514632,
          214.70031273667703,
          212.24093441370178,
          214.1152282747476,
          211.74508724432982,
          211.97318183606288,
          215.8903250205766,
          222.8321547170811,
          225.1923583394878,
          227.2154138088789,
          229.93263314470283,
          236.0216010473203,
          233.65146861987142,
          234.02829803865416,
          233.10604109225676,
          239.2941872558058,
          237.57854589519815,
          240.64286638257377,
          240.21642543569172,
          241.12877740255757,
          239.8594219820349,
          242.96340008440654,
          242.74523954709235,
          241.90228990093678,
          242.99315561567357,
          239.8651713129853,
          240.3422885946045,
          242.2805274720891,
          235.98869771613,
          228.94143020670074,
          228.62336280813756,
          230.6808957255563,
          230.13419843830016,
          234.4778426913381,
          235.58116801438598,
          230.7604000413287,
          225.37307808274596,
          228.13630368475071,
          229.97516712188042,
          231.4760677803144,
          235.57122014575094,
          233.54352336700737,
          232.5992501116914,
          233.54352925010969,
          234.85556003964192,
          234.72632802004753,
          231.1579900690459,
          229.62727799036614,
          228.8818040195066,
          236.0582665534822,
          236.41610311989962,
          233.88147786883584,
          230.15406515691893,
          235.16369067331897,
          232.1221351460624,
          231.50587410387197,
          237.03236313027853,
          241.29649385392833,
          246.11726032245318,
          246.3160512809536,
          251.24614932829456,
          251.34554100213188,
          253.1744705891083,
          255.70907529670194,
          255.92776908103195,
          256.3750350200042,
          257.90575807365457,
          258.6214465873262,
          256.26574458689873,
          257.37896633740735,
          258.641295450357,
          256.32534703180164,
          260.08255819304946,
          260.00305310539505,
          254.53618573294116,
          253.91994448405097,
          248.23442102868444,
          251.8723382596746,
          249.45701011866646,
          247.5585285506903,
          244.964232027639,
          250.62989017400048,
          249.35760684296324,
          243.07571026984846,
          240.7100457599529,
          240.34228455227466,
          244.09949314122974,
          245.06365544911304,
          244.78533409246947,
          238.41653779286997,
          243.04918798058935,
          246.64571803984722,
          246.8648921582891,
          250.83004403107864,
          250.49129766174963,
          250.23228319155365,
          250.0629124389447,
          250.29203625502106,
          247.20362731525293,
          244.30450271466924,
          246.8350120905581,
          249.04670877508883,
          254.20738675622056,
          252.8624141131004,
          253.34061871752232,
          257.0268179161676,
          256.93714758018274,
          258.8001557709658,
          258.43154545197984,
          255.114009786707,
          258.66069125425776,
          258.8499686720298,
          261.73914564355863,
          264.99691514296705,
          265.16631586766664,
          265.2360525025115,
          265.1962130342426,
          267.86616575162185,
          269.67940337075487,
          268.6034074446844,
          271.80144923021476,
          276.991996338799,
          278.35686764061956,
          275.8661992837956,
          274.6906306617764,
          278.1177641917581,
          276.48389543486894,
          281.29588544086107,
          280.9471536491598,
          281.01692244855025,
          277.8886449898117,
          276.99199874823654,
          277.85872942437067,
          282.7802850729647,
          286.2971002935274,
          287.92102403081213,
          288.3494092533576,
          287.9110757666465,
          285.17135035141285,
          284.10535251517797,
          285.29088146498157,
          284.3544301848899,
          285.1514123230909,
          285.80895897447925,
          287.43289842898537,
          288.668221343635,
          287.72174926660114,
          286.1377012499887,
          285.5599067820697,
          288.39926973238903,
          292.095382632516,
          291.29838287995585,
          291.5067019966163,
          288.16279645156584,
          299.1726580246481,
          302.6962211444097,
          304.4629633369294,
          303.7442922921823,
          300.4403475289859,
          298.44399057803344,
          300.57009296550734,
          303.86410553257394,
          302.31691795756683,
          301.6481373981162,
          300.44033744360644,
          300.4603067365565,
          299.23253574778744,
          300.270671876409,
          297.8750559968619,
          297.00660673589294,
          299.01296275403917,
          302.7062178972524,
          303.2053028608196,
          303.61455352985513,
          295.78883435855136,
          295.150016510438,
          296.1881317863621,
          298.30424458832425,
          297.6853949010418
         ],
         "yaxis": "y"
        }
       ],
       "layout": {
        "legend": {
         "tracegroupgap": 0
        },
        "template": {
         "data": {
          "bar": [
           {
            "error_x": {
             "color": "#2a3f5f"
            },
            "error_y": {
             "color": "#2a3f5f"
            },
            "marker": {
             "line": {
              "color": "#E5ECF6",
              "width": 0.5
             },
             "pattern": {
              "fillmode": "overlay",
              "size": 10,
              "solidity": 0.2
             }
            },
            "type": "bar"
           }
          ],
          "barpolar": [
           {
            "marker": {
             "line": {
              "color": "#E5ECF6",
              "width": 0.5
             },
             "pattern": {
              "fillmode": "overlay",
              "size": 10,
              "solidity": 0.2
             }
            },
            "type": "barpolar"
           }
          ],
          "carpet": [
           {
            "aaxis": {
             "endlinecolor": "#2a3f5f",
             "gridcolor": "white",
             "linecolor": "white",
             "minorgridcolor": "white",
             "startlinecolor": "#2a3f5f"
            },
            "baxis": {
             "endlinecolor": "#2a3f5f",
             "gridcolor": "white",
             "linecolor": "white",
             "minorgridcolor": "white",
             "startlinecolor": "#2a3f5f"
            },
            "type": "carpet"
           }
          ],
          "choropleth": [
           {
            "colorbar": {
             "outlinewidth": 0,
             "ticks": ""
            },
            "type": "choropleth"
           }
          ],
          "contour": [
           {
            "colorbar": {
             "outlinewidth": 0,
             "ticks": ""
            },
            "colorscale": [
             [
              0,
              "#0d0887"
             ],
             [
              0.1111111111111111,
              "#46039f"
             ],
             [
              0.2222222222222222,
              "#7201a8"
             ],
             [
              0.3333333333333333,
              "#9c179e"
             ],
             [
              0.4444444444444444,
              "#bd3786"
             ],
             [
              0.5555555555555556,
              "#d8576b"
             ],
             [
              0.6666666666666666,
              "#ed7953"
             ],
             [
              0.7777777777777778,
              "#fb9f3a"
             ],
             [
              0.8888888888888888,
              "#fdca26"
             ],
             [
              1,
              "#f0f921"
             ]
            ],
            "type": "contour"
           }
          ],
          "contourcarpet": [
           {
            "colorbar": {
             "outlinewidth": 0,
             "ticks": ""
            },
            "type": "contourcarpet"
           }
          ],
          "heatmap": [
           {
            "colorbar": {
             "outlinewidth": 0,
             "ticks": ""
            },
            "colorscale": [
             [
              0,
              "#0d0887"
             ],
             [
              0.1111111111111111,
              "#46039f"
             ],
             [
              0.2222222222222222,
              "#7201a8"
             ],
             [
              0.3333333333333333,
              "#9c179e"
             ],
             [
              0.4444444444444444,
              "#bd3786"
             ],
             [
              0.5555555555555556,
              "#d8576b"
             ],
             [
              0.6666666666666666,
              "#ed7953"
             ],
             [
              0.7777777777777778,
              "#fb9f3a"
             ],
             [
              0.8888888888888888,
              "#fdca26"
             ],
             [
              1,
              "#f0f921"
             ]
            ],
            "type": "heatmap"
           }
          ],
          "heatmapgl": [
           {
            "colorbar": {
             "outlinewidth": 0,
             "ticks": ""
            },
            "colorscale": [
             [
              0,
              "#0d0887"
             ],
             [
              0.1111111111111111,
              "#46039f"
             ],
             [
              0.2222222222222222,
              "#7201a8"
             ],
             [
              0.3333333333333333,
              "#9c179e"
             ],
             [
              0.4444444444444444,
              "#bd3786"
             ],
             [
              0.5555555555555556,
              "#d8576b"
             ],
             [
              0.6666666666666666,
              "#ed7953"
             ],
             [
              0.7777777777777778,
              "#fb9f3a"
             ],
             [
              0.8888888888888888,
              "#fdca26"
             ],
             [
              1,
              "#f0f921"
             ]
            ],
            "type": "heatmapgl"
           }
          ],
          "histogram": [
           {
            "marker": {
             "pattern": {
              "fillmode": "overlay",
              "size": 10,
              "solidity": 0.2
             }
            },
            "type": "histogram"
           }
          ],
          "histogram2d": [
           {
            "colorbar": {
             "outlinewidth": 0,
             "ticks": ""
            },
            "colorscale": [
             [
              0,
              "#0d0887"
             ],
             [
              0.1111111111111111,
              "#46039f"
             ],
             [
              0.2222222222222222,
              "#7201a8"
             ],
             [
              0.3333333333333333,
              "#9c179e"
             ],
             [
              0.4444444444444444,
              "#bd3786"
             ],
             [
              0.5555555555555556,
              "#d8576b"
             ],
             [
              0.6666666666666666,
              "#ed7953"
             ],
             [
              0.7777777777777778,
              "#fb9f3a"
             ],
             [
              0.8888888888888888,
              "#fdca26"
             ],
             [
              1,
              "#f0f921"
             ]
            ],
            "type": "histogram2d"
           }
          ],
          "histogram2dcontour": [
           {
            "colorbar": {
             "outlinewidth": 0,
             "ticks": ""
            },
            "colorscale": [
             [
              0,
              "#0d0887"
             ],
             [
              0.1111111111111111,
              "#46039f"
             ],
             [
              0.2222222222222222,
              "#7201a8"
             ],
             [
              0.3333333333333333,
              "#9c179e"
             ],
             [
              0.4444444444444444,
              "#bd3786"
             ],
             [
              0.5555555555555556,
              "#d8576b"
             ],
             [
              0.6666666666666666,
              "#ed7953"
             ],
             [
              0.7777777777777778,
              "#fb9f3a"
             ],
             [
              0.8888888888888888,
              "#fdca26"
             ],
             [
              1,
              "#f0f921"
             ]
            ],
            "type": "histogram2dcontour"
           }
          ],
          "mesh3d": [
           {
            "colorbar": {
             "outlinewidth": 0,
             "ticks": ""
            },
            "type": "mesh3d"
           }
          ],
          "parcoords": [
           {
            "line": {
             "colorbar": {
              "outlinewidth": 0,
              "ticks": ""
             }
            },
            "type": "parcoords"
           }
          ],
          "pie": [
           {
            "automargin": true,
            "type": "pie"
           }
          ],
          "scatter": [
           {
            "marker": {
             "colorbar": {
              "outlinewidth": 0,
              "ticks": ""
             }
            },
            "type": "scatter"
           }
          ],
          "scatter3d": [
           {
            "line": {
             "colorbar": {
              "outlinewidth": 0,
              "ticks": ""
             }
            },
            "marker": {
             "colorbar": {
              "outlinewidth": 0,
              "ticks": ""
             }
            },
            "type": "scatter3d"
           }
          ],
          "scattercarpet": [
           {
            "marker": {
             "colorbar": {
              "outlinewidth": 0,
              "ticks": ""
             }
            },
            "type": "scattercarpet"
           }
          ],
          "scattergeo": [
           {
            "marker": {
             "colorbar": {
              "outlinewidth": 0,
              "ticks": ""
             }
            },
            "type": "scattergeo"
           }
          ],
          "scattergl": [
           {
            "marker": {
             "colorbar": {
              "outlinewidth": 0,
              "ticks": ""
             }
            },
            "type": "scattergl"
           }
          ],
          "scattermapbox": [
           {
            "marker": {
             "colorbar": {
              "outlinewidth": 0,
              "ticks": ""
             }
            },
            "type": "scattermapbox"
           }
          ],
          "scatterpolar": [
           {
            "marker": {
             "colorbar": {
              "outlinewidth": 0,
              "ticks": ""
             }
            },
            "type": "scatterpolar"
           }
          ],
          "scatterpolargl": [
           {
            "marker": {
             "colorbar": {
              "outlinewidth": 0,
              "ticks": ""
             }
            },
            "type": "scatterpolargl"
           }
          ],
          "scatterternary": [
           {
            "marker": {
             "colorbar": {
              "outlinewidth": 0,
              "ticks": ""
             }
            },
            "type": "scatterternary"
           }
          ],
          "surface": [
           {
            "colorbar": {
             "outlinewidth": 0,
             "ticks": ""
            },
            "colorscale": [
             [
              0,
              "#0d0887"
             ],
             [
              0.1111111111111111,
              "#46039f"
             ],
             [
              0.2222222222222222,
              "#7201a8"
             ],
             [
              0.3333333333333333,
              "#9c179e"
             ],
             [
              0.4444444444444444,
              "#bd3786"
             ],
             [
              0.5555555555555556,
              "#d8576b"
             ],
             [
              0.6666666666666666,
              "#ed7953"
             ],
             [
              0.7777777777777778,
              "#fb9f3a"
             ],
             [
              0.8888888888888888,
              "#fdca26"
             ],
             [
              1,
              "#f0f921"
             ]
            ],
            "type": "surface"
           }
          ],
          "table": [
           {
            "cells": {
             "fill": {
              "color": "#EBF0F8"
             },
             "line": {
              "color": "white"
             }
            },
            "header": {
             "fill": {
              "color": "#C8D4E3"
             },
             "line": {
              "color": "white"
             }
            },
            "type": "table"
           }
          ]
         },
         "layout": {
          "annotationdefaults": {
           "arrowcolor": "#2a3f5f",
           "arrowhead": 0,
           "arrowwidth": 1
          },
          "autotypenumbers": "strict",
          "coloraxis": {
           "colorbar": {
            "outlinewidth": 0,
            "ticks": ""
           }
          },
          "colorscale": {
           "diverging": [
            [
             0,
             "#8e0152"
            ],
            [
             0.1,
             "#c51b7d"
            ],
            [
             0.2,
             "#de77ae"
            ],
            [
             0.3,
             "#f1b6da"
            ],
            [
             0.4,
             "#fde0ef"
            ],
            [
             0.5,
             "#f7f7f7"
            ],
            [
             0.6,
             "#e6f5d0"
            ],
            [
             0.7,
             "#b8e186"
            ],
            [
             0.8,
             "#7fbc41"
            ],
            [
             0.9,
             "#4d9221"
            ],
            [
             1,
             "#276419"
            ]
           ],
           "sequential": [
            [
             0,
             "#0d0887"
            ],
            [
             0.1111111111111111,
             "#46039f"
            ],
            [
             0.2222222222222222,
             "#7201a8"
            ],
            [
             0.3333333333333333,
             "#9c179e"
            ],
            [
             0.4444444444444444,
             "#bd3786"
            ],
            [
             0.5555555555555556,
             "#d8576b"
            ],
            [
             0.6666666666666666,
             "#ed7953"
            ],
            [
             0.7777777777777778,
             "#fb9f3a"
            ],
            [
             0.8888888888888888,
             "#fdca26"
            ],
            [
             1,
             "#f0f921"
            ]
           ],
           "sequentialminus": [
            [
             0,
             "#0d0887"
            ],
            [
             0.1111111111111111,
             "#46039f"
            ],
            [
             0.2222222222222222,
             "#7201a8"
            ],
            [
             0.3333333333333333,
             "#9c179e"
            ],
            [
             0.4444444444444444,
             "#bd3786"
            ],
            [
             0.5555555555555556,
             "#d8576b"
            ],
            [
             0.6666666666666666,
             "#ed7953"
            ],
            [
             0.7777777777777778,
             "#fb9f3a"
            ],
            [
             0.8888888888888888,
             "#fdca26"
            ],
            [
             1,
             "#f0f921"
            ]
           ]
          },
          "colorway": [
           "#636efa",
           "#EF553B",
           "#00cc96",
           "#ab63fa",
           "#FFA15A",
           "#19d3f3",
           "#FF6692",
           "#B6E880",
           "#FF97FF",
           "#FECB52"
          ],
          "font": {
           "color": "#2a3f5f"
          },
          "geo": {
           "bgcolor": "white",
           "lakecolor": "white",
           "landcolor": "#E5ECF6",
           "showlakes": true,
           "showland": true,
           "subunitcolor": "white"
          },
          "hoverlabel": {
           "align": "left"
          },
          "hovermode": "closest",
          "mapbox": {
           "style": "light"
          },
          "paper_bgcolor": "white",
          "plot_bgcolor": "#E5ECF6",
          "polar": {
           "angularaxis": {
            "gridcolor": "white",
            "linecolor": "white",
            "ticks": ""
           },
           "bgcolor": "#E5ECF6",
           "radialaxis": {
            "gridcolor": "white",
            "linecolor": "white",
            "ticks": ""
           }
          },
          "scene": {
           "xaxis": {
            "backgroundcolor": "#E5ECF6",
            "gridcolor": "white",
            "gridwidth": 2,
            "linecolor": "white",
            "showbackground": true,
            "ticks": "",
            "zerolinecolor": "white"
           },
           "yaxis": {
            "backgroundcolor": "#E5ECF6",
            "gridcolor": "white",
            "gridwidth": 2,
            "linecolor": "white",
            "showbackground": true,
            "ticks": "",
            "zerolinecolor": "white"
           },
           "zaxis": {
            "backgroundcolor": "#E5ECF6",
            "gridcolor": "white",
            "gridwidth": 2,
            "linecolor": "white",
            "showbackground": true,
            "ticks": "",
            "zerolinecolor": "white"
           }
          },
          "shapedefaults": {
           "line": {
            "color": "#2a3f5f"
           }
          },
          "ternary": {
           "aaxis": {
            "gridcolor": "white",
            "linecolor": "white",
            "ticks": ""
           },
           "baxis": {
            "gridcolor": "white",
            "linecolor": "white",
            "ticks": ""
           },
           "bgcolor": "#E5ECF6",
           "caxis": {
            "gridcolor": "white",
            "linecolor": "white",
            "ticks": ""
           }
          },
          "title": {
           "x": 0.05
          },
          "xaxis": {
           "automargin": true,
           "gridcolor": "white",
           "linecolor": "white",
           "ticks": "",
           "title": {
            "standoff": 15
           },
           "zerolinecolor": "white",
           "zerolinewidth": 2
          },
          "yaxis": {
           "automargin": true,
           "gridcolor": "white",
           "linecolor": "white",
           "ticks": "",
           "title": {
            "standoff": 15
           },
           "zerolinecolor": "white",
           "zerolinewidth": 2
          }
         }
        },
        "title": {
         "text": "Microsoft Stock Prices"
        },
        "xaxis": {
         "anchor": "y",
         "domain": [
          0,
          1
         ],
         "title": {
          "text": "Date"
         }
        },
        "yaxis": {
         "anchor": "x",
         "domain": [
          0,
          1
         ],
         "title": {
          "text": "Open"
         }
        }
       }
      },
      "text/html": [
       "<div>                            <div id=\"76c5bb7e-f8ac-4f5e-8359-579e4bb1bccb\" class=\"plotly-graph-div\" style=\"height:525px; width:100%;\"></div>            <script type=\"text/javascript\">                require([\"plotly\"], function(Plotly) {                    window.PLOTLYENV=window.PLOTLYENV || {};                                    if (document.getElementById(\"76c5bb7e-f8ac-4f5e-8359-579e4bb1bccb\")) {                    Plotly.newPlot(                        \"76c5bb7e-f8ac-4f5e-8359-579e4bb1bccb\",                        [{\"hovertemplate\":\"Date=%{x}<br>Open=%{y}<extra></extra>\",\"legendgroup\":\"\",\"line\":{\"color\":\"#636efa\",\"dash\":\"solid\"},\"marker\":{\"symbol\":\"circle\"},\"mode\":\"lines\",\"name\":\"\",\"orientation\":\"v\",\"showlegend\":false,\"x\":[\"2018-10-01T00:00:00\",\"2018-10-02T00:00:00\",\"2018-10-03T00:00:00\",\"2018-10-04T00:00:00\",\"2018-10-05T00:00:00\",\"2018-10-08T00:00:00\",\"2018-10-09T00:00:00\",\"2018-10-10T00:00:00\",\"2018-10-11T00:00:00\",\"2018-10-12T00:00:00\",\"2018-10-15T00:00:00\",\"2018-10-16T00:00:00\",\"2018-10-17T00:00:00\",\"2018-10-18T00:00:00\",\"2018-10-19T00:00:00\",\"2018-10-22T00:00:00\",\"2018-10-23T00:00:00\",\"2018-10-24T00:00:00\",\"2018-10-25T00:00:00\",\"2018-10-26T00:00:00\",\"2018-10-29T00:00:00\",\"2018-10-30T00:00:00\",\"2018-10-31T00:00:00\",\"2018-11-01T00:00:00\",\"2018-11-02T00:00:00\",\"2018-11-05T00:00:00\",\"2018-11-06T00:00:00\",\"2018-11-07T00:00:00\",\"2018-11-08T00:00:00\",\"2018-11-09T00:00:00\",\"2018-11-12T00:00:00\",\"2018-11-13T00:00:00\",\"2018-11-14T00:00:00\",\"2018-11-15T00:00:00\",\"2018-11-16T00:00:00\",\"2018-11-19T00:00:00\",\"2018-11-20T00:00:00\",\"2018-11-21T00:00:00\",\"2018-11-23T00:00:00\",\"2018-11-26T00:00:00\",\"2018-11-27T00:00:00\",\"2018-11-28T00:00:00\",\"2018-11-29T00:00:00\",\"2018-11-30T00:00:00\",\"2018-12-03T00:00:00\",\"2018-12-04T00:00:00\",\"2018-12-06T00:00:00\",\"2018-12-07T00:00:00\",\"2018-12-10T00:00:00\",\"2018-12-11T00:00:00\",\"2018-12-12T00:00:00\",\"2018-12-13T00:00:00\",\"2018-12-14T00:00:00\",\"2018-12-17T00:00:00\",\"2018-12-18T00:00:00\",\"2018-12-19T00:00:00\",\"2018-12-20T00:00:00\",\"2018-12-21T00:00:00\",\"2018-12-24T00:00:00\",\"2018-12-26T00:00:00\",\"2018-12-27T00:00:00\",\"2018-12-28T00:00:00\",\"2018-12-31T00:00:00\",\"2019-01-02T00:00:00\",\"2019-01-03T00:00:00\",\"2019-01-04T00:00:00\",\"2019-01-07T00:00:00\",\"2019-01-08T00:00:00\",\"2019-01-09T00:00:00\",\"2019-01-10T00:00:00\",\"2019-01-11T00:00:00\",\"2019-01-14T00:00:00\",\"2019-01-15T00:00:00\",\"2019-01-16T00:00:00\",\"2019-01-17T00:00:00\",\"2019-01-18T00:00:00\",\"2019-01-22T00:00:00\",\"2019-01-23T00:00:00\",\"2019-01-24T00:00:00\",\"2019-01-25T00:00:00\",\"2019-01-28T00:00:00\",\"2019-01-29T00:00:00\",\"2019-01-30T00:00:00\",\"2019-01-31T00:00:00\",\"2019-02-01T00:00:00\",\"2019-02-04T00:00:00\",\"2019-02-05T00:00:00\",\"2019-02-06T00:00:00\",\"2019-02-07T00:00:00\",\"2019-02-08T00:00:00\",\"2019-02-11T00:00:00\",\"2019-02-12T00:00:00\",\"2019-02-13T00:00:00\",\"2019-02-14T00:00:00\",\"2019-02-15T00:00:00\",\"2019-02-19T00:00:00\",\"2019-02-20T00:00:00\",\"2019-02-21T00:00:00\",\"2019-02-22T00:00:00\",\"2019-02-25T00:00:00\",\"2019-02-26T00:00:00\",\"2019-02-27T00:00:00\",\"2019-02-28T00:00:00\",\"2019-03-01T00:00:00\",\"2019-03-04T00:00:00\",\"2019-03-05T00:00:00\",\"2019-03-06T00:00:00\",\"2019-03-07T00:00:00\",\"2019-03-08T00:00:00\",\"2019-03-11T00:00:00\",\"2019-03-12T00:00:00\",\"2019-03-13T00:00:00\",\"2019-03-14T00:00:00\",\"2019-03-15T00:00:00\",\"2019-03-18T00:00:00\",\"2019-03-19T00:00:00\",\"2019-03-20T00:00:00\",\"2019-03-21T00:00:00\",\"2019-03-22T00:00:00\",\"2019-03-25T00:00:00\",\"2019-03-26T00:00:00\",\"2019-03-27T00:00:00\",\"2019-03-28T00:00:00\",\"2019-03-29T00:00:00\",\"2019-04-01T00:00:00\",\"2019-04-02T00:00:00\",\"2019-04-03T00:00:00\",\"2019-04-04T00:00:00\",\"2019-04-05T00:00:00\",\"2019-04-08T00:00:00\",\"2019-04-09T00:00:00\",\"2019-04-10T00:00:00\",\"2019-04-11T00:00:00\",\"2019-04-12T00:00:00\",\"2019-04-15T00:00:00\",\"2019-04-16T00:00:00\",\"2019-04-17T00:00:00\",\"2019-04-18T00:00:00\",\"2019-04-22T00:00:00\",\"2019-04-23T00:00:00\",\"2019-04-24T00:00:00\",\"2019-04-25T00:00:00\",\"2019-04-26T00:00:00\",\"2019-04-29T00:00:00\",\"2019-04-30T00:00:00\",\"2019-05-01T00:00:00\",\"2019-05-02T00:00:00\",\"2019-05-03T00:00:00\",\"2019-05-06T00:00:00\",\"2019-05-07T00:00:00\",\"2019-05-08T00:00:00\",\"2019-05-09T00:00:00\",\"2019-05-10T00:00:00\",\"2019-05-13T00:00:00\",\"2019-05-14T00:00:00\",\"2019-05-15T00:00:00\",\"2019-05-16T00:00:00\",\"2019-05-17T00:00:00\",\"2019-05-20T00:00:00\",\"2019-05-21T00:00:00\",\"2019-05-22T00:00:00\",\"2019-05-23T00:00:00\",\"2019-05-24T00:00:00\",\"2019-05-28T00:00:00\",\"2019-05-29T00:00:00\",\"2019-05-30T00:00:00\",\"2019-05-31T00:00:00\",\"2019-06-03T00:00:00\",\"2019-06-04T00:00:00\",\"2019-06-05T00:00:00\",\"2019-06-06T00:00:00\",\"2019-06-07T00:00:00\",\"2019-06-10T00:00:00\",\"2019-06-11T00:00:00\",\"2019-06-12T00:00:00\",\"2019-06-13T00:00:00\",\"2019-06-14T00:00:00\",\"2019-06-17T00:00:00\",\"2019-06-18T00:00:00\",\"2019-06-19T00:00:00\",\"2019-06-20T00:00:00\",\"2019-06-21T00:00:00\",\"2019-06-24T00:00:00\",\"2019-06-25T00:00:00\",\"2019-06-26T00:00:00\",\"2019-06-27T00:00:00\",\"2019-06-28T00:00:00\",\"2019-07-01T00:00:00\",\"2019-07-02T00:00:00\",\"2019-07-03T00:00:00\",\"2019-07-05T00:00:00\",\"2019-07-08T00:00:00\",\"2019-07-09T00:00:00\",\"2019-07-10T00:00:00\",\"2019-07-11T00:00:00\",\"2019-07-12T00:00:00\",\"2019-07-15T00:00:00\",\"2019-07-16T00:00:00\",\"2019-07-17T00:00:00\",\"2019-07-18T00:00:00\",\"2019-07-19T00:00:00\",\"2019-07-22T00:00:00\",\"2019-07-23T00:00:00\",\"2019-07-24T00:00:00\",\"2019-07-25T00:00:00\",\"2019-07-26T00:00:00\",\"2019-07-29T00:00:00\",\"2019-07-30T00:00:00\",\"2019-07-31T00:00:00\",\"2019-08-01T00:00:00\",\"2019-08-02T00:00:00\",\"2019-08-05T00:00:00\",\"2019-08-06T00:00:00\",\"2019-08-07T00:00:00\",\"2019-08-08T00:00:00\",\"2019-08-09T00:00:00\",\"2019-08-12T00:00:00\",\"2019-08-13T00:00:00\",\"2019-08-14T00:00:00\",\"2019-08-15T00:00:00\",\"2019-08-16T00:00:00\",\"2019-08-19T00:00:00\",\"2019-08-20T00:00:00\",\"2019-08-21T00:00:00\",\"2019-08-22T00:00:00\",\"2019-08-23T00:00:00\",\"2019-08-26T00:00:00\",\"2019-08-27T00:00:00\",\"2019-08-28T00:00:00\",\"2019-08-29T00:00:00\",\"2019-08-30T00:00:00\",\"2019-09-03T00:00:00\",\"2019-09-04T00:00:00\",\"2019-09-05T00:00:00\",\"2019-09-06T00:00:00\",\"2019-09-09T00:00:00\",\"2019-09-10T00:00:00\",\"2019-09-11T00:00:00\",\"2019-09-12T00:00:00\",\"2019-09-13T00:00:00\",\"2019-09-16T00:00:00\",\"2019-09-17T00:00:00\",\"2019-09-18T00:00:00\",\"2019-09-19T00:00:00\",\"2019-09-20T00:00:00\",\"2019-09-23T00:00:00\",\"2019-09-24T00:00:00\",\"2019-09-25T00:00:00\",\"2019-09-26T00:00:00\",\"2019-09-27T00:00:00\",\"2019-09-30T00:00:00\",\"2019-10-01T00:00:00\",\"2019-10-02T00:00:00\",\"2019-10-03T00:00:00\",\"2019-10-04T00:00:00\",\"2019-10-07T00:00:00\",\"2019-10-08T00:00:00\",\"2019-10-09T00:00:00\",\"2019-10-10T00:00:00\",\"2019-10-11T00:00:00\",\"2019-10-14T00:00:00\",\"2019-10-15T00:00:00\",\"2019-10-16T00:00:00\",\"2019-10-17T00:00:00\",\"2019-10-18T00:00:00\",\"2019-10-21T00:00:00\",\"2019-10-22T00:00:00\",\"2019-10-23T00:00:00\",\"2019-10-24T00:00:00\",\"2019-10-25T00:00:00\",\"2019-10-28T00:00:00\",\"2019-10-29T00:00:00\",\"2019-10-30T00:00:00\",\"2019-10-31T00:00:00\",\"2019-11-01T00:00:00\",\"2019-11-04T00:00:00\",\"2019-11-05T00:00:00\",\"2019-11-06T00:00:00\",\"2019-11-07T00:00:00\",\"2019-11-08T00:00:00\",\"2019-11-11T00:00:00\",\"2019-11-12T00:00:00\",\"2019-11-13T00:00:00\",\"2019-11-14T00:00:00\",\"2019-11-15T00:00:00\",\"2019-11-18T00:00:00\",\"2019-11-19T00:00:00\",\"2019-11-20T00:00:00\",\"2019-11-21T00:00:00\",\"2019-11-22T00:00:00\",\"2019-11-25T00:00:00\",\"2019-11-26T00:00:00\",\"2019-11-27T00:00:00\",\"2019-11-29T00:00:00\",\"2019-12-02T00:00:00\",\"2019-12-03T00:00:00\",\"2019-12-04T00:00:00\",\"2019-12-05T00:00:00\",\"2019-12-06T00:00:00\",\"2019-12-09T00:00:00\",\"2019-12-10T00:00:00\",\"2019-12-11T00:00:00\",\"2019-12-12T00:00:00\",\"2019-12-13T00:00:00\",\"2019-12-16T00:00:00\",\"2019-12-17T00:00:00\",\"2019-12-18T00:00:00\",\"2019-12-19T00:00:00\",\"2019-12-20T00:00:00\",\"2019-12-23T00:00:00\",\"2019-12-24T00:00:00\",\"2019-12-26T00:00:00\",\"2019-12-27T00:00:00\",\"2019-12-30T00:00:00\",\"2019-12-31T00:00:00\",\"2020-01-02T00:00:00\",\"2020-01-03T00:00:00\",\"2020-01-06T00:00:00\",\"2020-01-07T00:00:00\",\"2020-01-08T00:00:00\",\"2020-01-09T00:00:00\",\"2020-01-10T00:00:00\",\"2020-01-13T00:00:00\",\"2020-01-14T00:00:00\",\"2020-01-15T00:00:00\",\"2020-01-16T00:00:00\",\"2020-01-17T00:00:00\",\"2020-01-21T00:00:00\",\"2020-01-22T00:00:00\",\"2020-01-23T00:00:00\",\"2020-01-24T00:00:00\",\"2020-01-27T00:00:00\",\"2020-01-28T00:00:00\",\"2020-01-29T00:00:00\",\"2020-01-30T00:00:00\",\"2020-01-31T00:00:00\",\"2020-02-03T00:00:00\",\"2020-02-04T00:00:00\",\"2020-02-05T00:00:00\",\"2020-02-06T00:00:00\",\"2020-02-07T00:00:00\",\"2020-02-10T00:00:00\",\"2020-02-11T00:00:00\",\"2020-02-12T00:00:00\",\"2020-02-13T00:00:00\",\"2020-02-14T00:00:00\",\"2020-02-18T00:00:00\",\"2020-02-19T00:00:00\",\"2020-02-20T00:00:00\",\"2020-02-21T00:00:00\",\"2020-02-24T00:00:00\",\"2020-02-25T00:00:00\",\"2020-02-26T00:00:00\",\"2020-02-27T00:00:00\",\"2020-02-28T00:00:00\",\"2020-03-02T00:00:00\",\"2020-03-03T00:00:00\",\"2020-03-04T00:00:00\",\"2020-03-05T00:00:00\",\"2020-03-06T00:00:00\",\"2020-03-09T00:00:00\",\"2020-03-10T00:00:00\",\"2020-03-11T00:00:00\",\"2020-03-12T00:00:00\",\"2020-03-13T00:00:00\",\"2020-03-16T00:00:00\",\"2020-03-17T00:00:00\",\"2020-03-18T00:00:00\",\"2020-03-19T00:00:00\",\"2020-03-20T00:00:00\",\"2020-03-23T00:00:00\",\"2020-03-24T00:00:00\",\"2020-03-25T00:00:00\",\"2020-03-26T00:00:00\",\"2020-03-27T00:00:00\",\"2020-03-30T00:00:00\",\"2020-03-31T00:00:00\",\"2020-04-01T00:00:00\",\"2020-04-02T00:00:00\",\"2020-04-03T00:00:00\",\"2020-04-06T00:00:00\",\"2020-04-07T00:00:00\",\"2020-04-08T00:00:00\",\"2020-04-09T00:00:00\",\"2020-04-13T00:00:00\",\"2020-04-14T00:00:00\",\"2020-04-15T00:00:00\",\"2020-04-16T00:00:00\",\"2020-04-17T00:00:00\",\"2020-04-20T00:00:00\",\"2020-04-21T00:00:00\",\"2020-04-22T00:00:00\",\"2020-04-23T00:00:00\",\"2020-04-24T00:00:00\",\"2020-04-27T00:00:00\",\"2020-04-28T00:00:00\",\"2020-04-29T00:00:00\",\"2020-04-30T00:00:00\",\"2020-05-01T00:00:00\",\"2020-05-04T00:00:00\",\"2020-05-05T00:00:00\",\"2020-05-06T00:00:00\",\"2020-05-07T00:00:00\",\"2020-05-08T00:00:00\",\"2020-05-11T00:00:00\",\"2020-05-12T00:00:00\",\"2020-05-13T00:00:00\",\"2020-05-14T00:00:00\",\"2020-05-15T00:00:00\",\"2020-05-18T00:00:00\",\"2020-05-19T00:00:00\",\"2020-05-20T00:00:00\",\"2020-05-21T00:00:00\",\"2020-05-22T00:00:00\",\"2020-05-26T00:00:00\",\"2020-05-27T00:00:00\",\"2020-05-28T00:00:00\",\"2020-05-29T00:00:00\",\"2020-06-01T00:00:00\",\"2020-06-02T00:00:00\",\"2020-06-03T00:00:00\",\"2020-06-04T00:00:00\",\"2020-06-05T00:00:00\",\"2020-06-08T00:00:00\",\"2020-06-09T00:00:00\",\"2020-06-10T00:00:00\",\"2020-06-11T00:00:00\",\"2020-06-12T00:00:00\",\"2020-06-15T00:00:00\",\"2020-06-16T00:00:00\",\"2020-06-17T00:00:00\",\"2020-06-18T00:00:00\",\"2020-06-19T00:00:00\",\"2020-06-22T00:00:00\",\"2020-06-23T00:00:00\",\"2020-06-24T00:00:00\",\"2020-06-25T00:00:00\",\"2020-06-26T00:00:00\",\"2020-06-29T00:00:00\",\"2020-06-30T00:00:00\",\"2020-07-01T00:00:00\",\"2020-07-02T00:00:00\",\"2020-07-06T00:00:00\",\"2020-07-07T00:00:00\",\"2020-07-08T00:00:00\",\"2020-07-09T00:00:00\",\"2020-07-10T00:00:00\",\"2020-07-13T00:00:00\",\"2020-07-14T00:00:00\",\"2020-07-15T00:00:00\",\"2020-07-16T00:00:00\",\"2020-07-17T00:00:00\",\"2020-07-20T00:00:00\",\"2020-07-21T00:00:00\",\"2020-07-22T00:00:00\",\"2020-07-23T00:00:00\",\"2020-07-24T00:00:00\",\"2020-07-27T00:00:00\",\"2020-07-28T00:00:00\",\"2020-07-29T00:00:00\",\"2020-07-30T00:00:00\",\"2020-07-31T00:00:00\",\"2020-08-03T00:00:00\",\"2020-08-04T00:00:00\",\"2020-08-05T00:00:00\",\"2020-08-06T00:00:00\",\"2020-08-07T00:00:00\",\"2020-08-10T00:00:00\",\"2020-08-11T00:00:00\",\"2020-08-12T00:00:00\",\"2020-08-13T00:00:00\",\"2020-08-14T00:00:00\",\"2020-08-17T00:00:00\",\"2020-08-18T00:00:00\",\"2020-08-19T00:00:00\",\"2020-08-20T00:00:00\",\"2020-08-21T00:00:00\",\"2020-08-24T00:00:00\",\"2020-08-25T00:00:00\",\"2020-08-26T00:00:00\",\"2020-08-27T00:00:00\",\"2020-08-28T00:00:00\",\"2020-08-31T00:00:00\",\"2020-09-01T00:00:00\",\"2020-09-02T00:00:00\",\"2020-09-03T00:00:00\",\"2020-09-04T00:00:00\",\"2020-09-08T00:00:00\",\"2020-09-09T00:00:00\",\"2020-09-10T00:00:00\",\"2020-09-11T00:00:00\",\"2020-09-14T00:00:00\",\"2020-09-15T00:00:00\",\"2020-09-16T00:00:00\",\"2020-09-17T00:00:00\",\"2020-09-18T00:00:00\",\"2020-09-21T00:00:00\",\"2020-09-22T00:00:00\",\"2020-09-23T00:00:00\",\"2020-09-24T00:00:00\",\"2020-09-25T00:00:00\",\"2020-09-28T00:00:00\",\"2020-09-29T00:00:00\",\"2020-09-30T00:00:00\",\"2020-10-01T00:00:00\",\"2020-10-02T00:00:00\",\"2020-10-05T00:00:00\",\"2020-10-06T00:00:00\",\"2020-10-07T00:00:00\",\"2020-10-08T00:00:00\",\"2020-10-09T00:00:00\",\"2020-10-12T00:00:00\",\"2020-10-13T00:00:00\",\"2020-10-14T00:00:00\",\"2020-10-15T00:00:00\",\"2020-10-16T00:00:00\",\"2020-10-19T00:00:00\",\"2020-10-20T00:00:00\",\"2020-10-21T00:00:00\",\"2020-10-22T00:00:00\",\"2020-10-23T00:00:00\",\"2020-10-26T00:00:00\",\"2020-10-27T00:00:00\",\"2020-10-28T00:00:00\",\"2020-10-29T00:00:00\",\"2020-10-30T00:00:00\",\"2020-11-02T00:00:00\",\"2020-11-03T00:00:00\",\"2020-11-04T00:00:00\",\"2020-11-05T00:00:00\",\"2020-11-06T00:00:00\",\"2020-11-09T00:00:00\",\"2020-11-10T00:00:00\",\"2020-11-11T00:00:00\",\"2020-11-12T00:00:00\",\"2020-11-13T00:00:00\",\"2020-11-16T00:00:00\",\"2020-11-17T00:00:00\",\"2020-11-18T00:00:00\",\"2020-11-19T00:00:00\",\"2020-11-20T00:00:00\",\"2020-11-23T00:00:00\",\"2020-11-24T00:00:00\",\"2020-11-25T00:00:00\",\"2020-11-27T00:00:00\",\"2020-11-30T00:00:00\",\"2020-12-01T00:00:00\",\"2020-12-02T00:00:00\",\"2020-12-03T00:00:00\",\"2020-12-04T00:00:00\",\"2020-12-07T00:00:00\",\"2020-12-08T00:00:00\",\"2020-12-09T00:00:00\",\"2020-12-10T00:00:00\",\"2020-12-11T00:00:00\",\"2020-12-14T00:00:00\",\"2020-12-15T00:00:00\",\"2020-12-16T00:00:00\",\"2020-12-17T00:00:00\",\"2020-12-18T00:00:00\",\"2020-12-21T00:00:00\",\"2020-12-22T00:00:00\",\"2020-12-23T00:00:00\",\"2020-12-24T00:00:00\",\"2020-12-28T00:00:00\",\"2020-12-29T00:00:00\",\"2020-12-30T00:00:00\",\"2020-12-31T00:00:00\",\"2021-01-04T00:00:00\",\"2021-01-05T00:00:00\",\"2021-01-06T00:00:00\",\"2021-01-07T00:00:00\",\"2021-01-08T00:00:00\",\"2021-01-11T00:00:00\",\"2021-01-12T00:00:00\",\"2021-01-13T00:00:00\",\"2021-01-14T00:00:00\",\"2021-01-15T00:00:00\",\"2021-01-19T00:00:00\",\"2021-01-20T00:00:00\",\"2021-01-21T00:00:00\",\"2021-01-22T00:00:00\",\"2021-01-25T00:00:00\",\"2021-01-26T00:00:00\",\"2021-01-27T00:00:00\",\"2021-01-28T00:00:00\",\"2021-01-29T00:00:00\",\"2021-02-01T00:00:00\",\"2021-02-02T00:00:00\",\"2021-02-03T00:00:00\",\"2021-02-04T00:00:00\",\"2021-02-05T00:00:00\",\"2021-02-08T00:00:00\",\"2021-02-09T00:00:00\",\"2021-02-10T00:00:00\",\"2021-02-11T00:00:00\",\"2021-02-12T00:00:00\",\"2021-02-16T00:00:00\",\"2021-02-17T00:00:00\",\"2021-02-18T00:00:00\",\"2021-02-19T00:00:00\",\"2021-02-22T00:00:00\",\"2021-02-23T00:00:00\",\"2021-02-24T00:00:00\",\"2021-02-25T00:00:00\",\"2021-02-26T00:00:00\",\"2021-03-01T00:00:00\",\"2021-03-02T00:00:00\",\"2021-03-03T00:00:00\",\"2021-03-04T00:00:00\",\"2021-03-05T00:00:00\",\"2021-03-08T00:00:00\",\"2021-03-09T00:00:00\",\"2021-03-10T00:00:00\",\"2021-03-11T00:00:00\",\"2021-03-12T00:00:00\",\"2021-03-15T00:00:00\",\"2021-03-16T00:00:00\",\"2021-03-17T00:00:00\",\"2021-03-18T00:00:00\",\"2021-03-19T00:00:00\",\"2021-03-22T00:00:00\",\"2021-03-23T00:00:00\",\"2021-03-24T00:00:00\",\"2021-03-25T00:00:00\",\"2021-03-26T00:00:00\",\"2021-03-29T00:00:00\",\"2021-03-30T00:00:00\",\"2021-03-31T00:00:00\",\"2021-04-01T00:00:00\",\"2021-04-05T00:00:00\",\"2021-04-06T00:00:00\",\"2021-04-07T00:00:00\",\"2021-04-08T00:00:00\",\"2021-04-09T00:00:00\",\"2021-04-12T00:00:00\",\"2021-04-13T00:00:00\",\"2021-04-14T00:00:00\",\"2021-04-15T00:00:00\",\"2021-04-16T00:00:00\",\"2021-04-19T00:00:00\",\"2021-04-20T00:00:00\",\"2021-04-21T00:00:00\",\"2021-04-22T00:00:00\",\"2021-04-23T00:00:00\",\"2021-04-26T00:00:00\",\"2021-04-27T00:00:00\",\"2021-04-28T00:00:00\",\"2021-04-29T00:00:00\",\"2021-04-30T00:00:00\",\"2021-05-03T00:00:00\",\"2021-05-04T00:00:00\",\"2021-05-05T00:00:00\",\"2021-05-06T00:00:00\",\"2021-05-07T00:00:00\",\"2021-05-10T00:00:00\",\"2021-05-11T00:00:00\",\"2021-05-12T00:00:00\",\"2021-05-13T00:00:00\",\"2021-05-14T00:00:00\",\"2021-05-17T00:00:00\",\"2021-05-18T00:00:00\",\"2021-05-19T00:00:00\",\"2021-05-20T00:00:00\",\"2021-05-21T00:00:00\",\"2021-05-24T00:00:00\",\"2021-05-25T00:00:00\",\"2021-05-26T00:00:00\",\"2021-05-27T00:00:00\",\"2021-05-28T00:00:00\",\"2021-06-01T00:00:00\",\"2021-06-02T00:00:00\",\"2021-06-03T00:00:00\",\"2021-06-04T00:00:00\",\"2021-06-07T00:00:00\",\"2021-06-08T00:00:00\",\"2021-06-09T00:00:00\",\"2021-06-10T00:00:00\",\"2021-06-11T00:00:00\",\"2021-06-14T00:00:00\",\"2021-06-15T00:00:00\",\"2021-06-16T00:00:00\",\"2021-06-17T00:00:00\",\"2021-06-18T00:00:00\",\"2021-06-21T00:00:00\",\"2021-06-22T00:00:00\",\"2021-06-23T00:00:00\",\"2021-06-24T00:00:00\",\"2021-06-25T00:00:00\",\"2021-06-28T00:00:00\",\"2021-06-29T00:00:00\",\"2021-06-30T00:00:00\",\"2021-07-01T00:00:00\",\"2021-07-02T00:00:00\",\"2021-07-06T00:00:00\",\"2021-07-07T00:00:00\",\"2021-07-08T00:00:00\",\"2021-07-09T00:00:00\",\"2021-07-12T00:00:00\",\"2021-07-13T00:00:00\",\"2021-07-14T00:00:00\",\"2021-07-15T00:00:00\",\"2021-07-16T00:00:00\",\"2021-07-19T00:00:00\",\"2021-07-20T00:00:00\",\"2021-07-21T00:00:00\",\"2021-07-22T00:00:00\",\"2021-07-23T00:00:00\",\"2021-07-26T00:00:00\",\"2021-07-27T00:00:00\",\"2021-07-28T00:00:00\",\"2021-07-29T00:00:00\",\"2021-07-30T00:00:00\",\"2021-08-02T00:00:00\",\"2021-08-03T00:00:00\",\"2021-08-04T00:00:00\",\"2021-08-05T00:00:00\",\"2021-08-06T00:00:00\",\"2021-08-09T00:00:00\",\"2021-08-10T00:00:00\",\"2021-08-11T00:00:00\",\"2021-08-12T00:00:00\",\"2021-08-13T00:00:00\",\"2021-08-16T00:00:00\",\"2021-08-17T00:00:00\",\"2021-08-18T00:00:00\",\"2021-08-19T00:00:00\",\"2021-08-20T00:00:00\",\"2021-08-23T00:00:00\",\"2021-08-24T00:00:00\",\"2021-08-25T00:00:00\",\"2021-08-26T00:00:00\",\"2021-08-27T00:00:00\",\"2021-08-30T00:00:00\",\"2021-08-31T00:00:00\",\"2021-09-01T00:00:00\",\"2021-09-02T00:00:00\",\"2021-09-03T00:00:00\",\"2021-09-07T00:00:00\",\"2021-09-08T00:00:00\",\"2021-09-09T00:00:00\",\"2021-09-10T00:00:00\",\"2021-09-13T00:00:00\",\"2021-09-14T00:00:00\",\"2021-09-15T00:00:00\",\"2021-09-16T00:00:00\",\"2021-09-17T00:00:00\",\"2021-09-20T00:00:00\",\"2021-09-21T00:00:00\",\"2021-09-22T00:00:00\",\"2021-09-23T00:00:00\",\"2021-09-24T00:00:00\"],\"xaxis\":\"x\",\"y\":[110.48526279934698,111.01480320821175,111.13036471026932,110.35044165920267,108.44402549151768,107.51009496793026,107.00941427393879,107.1056934527163,101.43460078013032,104.95856449493887,104.86230075800246,105.46887365701714,107.52935620988106,106.00806282194598,104.88155171704648,105.25705804455605,103.7646527389455,104.38089318260575,102.59001076709639,101.76197521111025,104.09202532835803,99.80741115520772,101.52126876876179,103.07142122494179,102.5226071323611,102.41669737881642,103.38916230793356,105.37260301952996,107.64490064505436,106.73017600320759,105.35334042786229,103.55284472007999,104.5320285204987,101.52469575748256,103.54572784358322,104.69643022933181,98.43999197538487,100.18057394257674,98.79776432311427,101.33126850056125,102.76244187157288,104.32897600536326,106.68843335851307,107.0462111382159,109.27030301132734,108.24530389451478,102.32729507306705,104.80278611851207,101.34096523477523,106.17593614847486,107.2299625651624,105.96318492697829,104.67709269048879,101.93083209245037,100.3256207496047,100.22892799787752,99.64874051963214,98.27558927765149,94.45596358906614,91.99980772959704,96.02250053338491,98.72041736286245,97.94681033965928,96.26425232373025,96.79608402634,96.42864090495497,98.28527053662374,99.63905890744682,100.43198939203714,99.81310986047637,99.78410947752114,98.53667399649316,99.1265445398557,101.7857827722438,101.53435768904122,103.91317398620882,103.22661602855796,102.61739674901358,103.33295975512797,103.70044075382646,102.7527702812639,101.41831384935584,101.16691604365145,100.37397366038088,100.35463590447276,99.47466360711454,102.55937479823952,103.4683502806679,101.71810201897007,100.94449987613478,102.69474134210944,102.63673877971094,103.95185038357691,102.80112045122848,104.34832078389466,104.23226880592298,104.74540515605175,103.81311846139978,106.87215492106836,108.53278006031806,108.04722863211596,108.46481111163504,108.80468859126611,109.63016087205719,109.75638969064866,109.00863883811353,108.63960879798603,108.18317613378774,106.00786270935954,107.78502027607212,109.56218643900581,110.8343385068591,111.23249990037819,112.00938733612641,112.81544358683395,114.6799825226693,114.0002061760758,113.75742668306276,116.04927871751607,113.1941786331327,115.19468485974285,114.47606502101712,114.04876482543881,114.66057568992046,115.51515915074779,115.62198678548208,116.39889021407947,116.63194421704151,115.94244722810707,116.35032040661724,115.20439285735509,116.3017692603911,117.059243606547,117.1563591231102,117.44771070505507,118.12748833321645,117.73903639365744,118.66159189155647,119.07919123777725,120.51645461826796,122.15765230992693,126.30433456349259,125.95475869722729,126.14894869814853,126.06154706967017,126.76077325001255,124.28440660126255,123.68230210593944,122.74032106946794,122.80829776378545,121.81774857206031,120.70095601451139,121.30305796139275,120.52616492401121,120.29309838531086,121.11850826465428,123.54556912517062,125.0661143623775,123.32137224815666,124.20836438695294,123.41883387683215,123.00946607262497,123.70151362399054,123.76975069533029,122.21019735783354,122.09323459525156,121.08926733282367,120.71888007423816,118.21385027162452,121.79106958801205,123.2433998585454,125.92386840541909,129.0526641201159,130.4952971517116,128.07798974992247,128.6433311423508,128.9162415664494,129.27689379047445,130.7974723447294,131.58697869459706,133.97504537274986,133.12704729019887,133.53642795045158,133.78010263174386,130.95341640211208,130.74874205577933,131.16788213180462,133.175780762401,132.67868286413218,133.34148451125984,132.50322975278954,132.95159693102042,132.5617242363701,133.66314598324513,134.706090773018,135.33965793565304,135.91473823124824,135.4468858936171,134.21873041045345,132.123099493214,136.6750232794584,133.9360500813325,136.22661240333358,135.38840434348933,136.87969009606013,136.821215090921,137.92267273440575,136.59706036782538,136.78224474718266,133.53644182628014,134.59885152636448,129.929978039568,130.4173217961714,130.4075883219317,133.146548112477,135.10572576853107,133.6046631690261,132.6104278812184,133.35519313747446,131.42861410860837,131.9077939781846,134.81237355291898,135.16441406275982,135.496957053453,135.60454040550664,134.16690458459203,132.01540053533535,133.3845416343861,131.90780649650057,134.22557673960367,136.08369538971715,133.59969837887024,134.2744989999075,136.0446240687216,136.94432006216002,136.51401739121167,133.78551056630482,132.9151192711065,134.81236925490086,134.74392261270577,132.83685417331182,133.9419703906295,134.33314840281216,137.208373944722,137.90273623084252,136.1619725608601,137.26706679991833,134.47006393340615,136.3673309413701,137.06167893681004,135.00796883414793,136.58249979983324,133.24764075199485,131.97625297126635,133.7365946749785,134.1180284308531,134.05935321961923,134.4309301630337,135.43826182243853,137.03231155453054,136.61182894935956,136.97367333668046,137.68754941213177,137.84407667316137,136.6802562248842,135.39911057713022,135.9076878988632,133.86373736350257,136.3184095079622,136.26952141625443,141.2180289267157,140.90505694637184,140.35742350251854,141.70700792300283,141.0811184251587,141.63854433411942,141.77545920831713,141.18869509670583,140.67035731868563,140.8072726036251,142.1372985485634,143.05660826546196,143.50647197472884,143.7802871759864,145.64820729433163,146.763090544587,147.55522706459374,147.49798615477047,146.60501230274028,147.26250435097433,147.19378723195592,148.52835769012995,149.48019021859233,149.25452033489054,148.96994240632614,144.73077976552506,147.33118369892333,147.2428414949335,148.1652951937666,148.24378275154078,148.45963813932207,148.7049891916795,148.81291861976734,150.13766265723132,152.208190001781,152.54182750168476,151.41335775178615,151.11896592628568,154.4062890653069,155.16187306028888,154.53386545874787,154.61234925516843,156.46699901145828,156.01561768623807,153.8371614249224,155.80953866346525,155.35813601439935,154.14135413829382,156.33944192256425,155.95674457977734,158.81227895147248,159.77396288506947,158.73378901853795,160.33330059146508,159.57770663693645,161.27535085018076,164.28789785242213,163.56171139784428,164.2682758129741,163.0808839596333,164.37621550369659,158.13516927612395,160.71599992796052,164.70003062335675,170.79386765526374,168.98827194096887,167.2415461230114,173.8260442858992,180.58716455703336,177.58440099724083,179.42924624452095,180.14557464627825,187.0833169916756,182.1081595015126,179.65495928673334,179.82175763297536,182.1376066910392,185.04580213791468,183.9536056486784,180.23417914332137,165.08102763755073,171.40796029253767,166.98994706407328,160.7023458435341,149.96722035913047,162.6604601724492,171.01437060341945,165.7894718136417,163.38861216155075,160.00371691781123,148.57981637583586,155.62504717943227,154.61159770766196,142.97116891655742,145.13588108577864,137.7560903606075,137.75613464295662,135.78817648116225,140.48173491261838,143.65995998386913,134.81402728603348,141.44600405694118,146.5233109833733,146.0214629178822,149.31777458354563,149.99674273325755,156.84516668391373,150.5477623368628,149.42603041899176,152.61413593383725,157.75044904325654,166.8718664638339,163.014675794588,163.6936266863163,161.715857542674,166.29130346516828,168.45602846214817,171.50637905495748,176.6229956607286,173.79900916288577,170.71918905840676,168.64298041291468,171.3194190370354,169.3022687209185,173.7596589270586,172.77569179786838,170.44366705333744,177.11500848850466,172.98234602271668,171.69330202885297,177.72506796803899,179.16166950198237,181.2181745120987,182.01519592014927,180.21449209464296,183.8060273779483,179.6241439606098,174.6944527721267,176.190072906961,182.7728680276099,182.06438375409357,182.35437289378882,182.9365161314866,180.75588455134326,183.8640491348799,177.80563321509274,178.33843568607568,180.3020144134371,180.1145101996952,181.80179950722305,182.3642459828242,181.85115504895978,180.19346995644338,183.46933515450078,185.50199027505454,188.59039692323813,190.56381696337817,188.00822098666245,182.12743631765713,190.3270133702271,192.4385539334057,191.4222453114512,195.95127039656634,193.1884827233272,199.4047433729946,198.92127662359417,195.1717805878103,197.07611523716224,193.17860906617955,195.2507107703155,200.44081787265614,202.94705299412595,206.05521220095133,207.65367498342732,207.27875344097026,213.4555465010492,210.78154819787937,211.6301172857377,203.39110053151362,206.77550326434158,202.6707797790379,201.7531346202076,202.27609674706568,210.82103547014654,206.42029620085458,204.43702413869153,197.7569474497295,198.7930069186133,200.90456285620385,199.80931766457226,198.32924366842553,201.68405440390876,208.709478494935,211.32425988112223,212.0445286812611,209.51855353073154,211.99521164372283,208.8574656255606,204.407400250124,202.56222739289356,206.65711374833808,205.98614365724904,206.8149740325111,207.73261980577712,209.18432737073746,207.25556919087973,211.52847042196086,212.44831961964056,210.77676089639138,215.504644056322,220.46002860875498,225.69234587803987,224.5252030163865,223.05146015569363,225.484638862359,226.77047189828053,212.75496961956878,204.24872450650628,205.33670728584895,211.07346615230904,204.94105642894198,202.01335058676722,206.14776938980327,208.32379692835488,197.86904008897432,200.58903632062854,195.04022889714474,202.82440459601412,205.63342437377284,197.6712093177752,201.33086926715114,208.58096534644326,207.06765334676072,205.46529628839568,211.16250738048527,205.73235763125933,204.960857694128,206.5434242956488,204.80259889784577,208.21498137053018,208.92714418420874,216.40470591102687,220.29187053503105,220.56883260729842,214.73314029611547,217.74987653856735,218.01695592458373,213.4473318808377,210.79651405818032,211.59770061269654,212.6857204250916,211.51857587705672,209.28321900186629,205.40595605438156,201.8452058367025,201.28138847518673,202.06278401331483,201.66715676059965,211.68674179889635,219.61927954537794,219.8368858196831,221.99310831235096,212.16149065089107,210.07448219946085,214.8419396304788,214.00120801223397,212.52746838289661,213.7440528646496,211.8739917253423,209.62288760117823,210.43608045968958,209.1964475967108,207.8477508533754,213.32187616213423,213.06404127482665,212.3202767549646,212.7268391957862,213.09379476928302,212.82602592800126,212.43925886292462,212.58801905730328,212.1913352699667,213.37146852366578,210.00962868533458,208.3039356599003,211.3285865558222,213.38136956895985,212.96487159250182,218.04231039426347,216.7729339599609,215.74158743973413,220.83886671791697,221.25536215855664,219.57941519087606,222.58422609718164,224.4287763522408,223.35774295916238,219.85708983056645,220.68019550438507,215.4539895206695,210.4063046751149,212.2607619490295,216.86218402166034,216.65394780514632,214.70031273667703,212.24093441370178,214.1152282747476,211.74508724432982,211.97318183606288,215.8903250205766,222.8321547170811,225.1923583394878,227.2154138088789,229.93263314470283,236.0216010473203,233.65146861987142,234.02829803865416,233.10604109225676,239.2941872558058,237.57854589519815,240.64286638257377,240.21642543569172,241.12877740255757,239.8594219820349,242.96340008440654,242.74523954709235,241.90228990093678,242.99315561567357,239.8651713129853,240.3422885946045,242.2805274720891,235.98869771613,228.94143020670074,228.62336280813756,230.6808957255563,230.13419843830016,234.4778426913381,235.58116801438598,230.7604000413287,225.37307808274596,228.13630368475071,229.97516712188042,231.4760677803144,235.57122014575094,233.54352336700737,232.5992501116914,233.54352925010969,234.85556003964192,234.72632802004753,231.1579900690459,229.62727799036614,228.8818040195066,236.0582665534822,236.41610311989962,233.88147786883584,230.15406515691893,235.16369067331897,232.1221351460624,231.50587410387197,237.03236313027853,241.29649385392833,246.11726032245318,246.3160512809536,251.24614932829456,251.34554100213188,253.1744705891083,255.70907529670194,255.92776908103195,256.3750350200042,257.90575807365457,258.6214465873262,256.26574458689873,257.37896633740735,258.641295450357,256.32534703180164,260.08255819304946,260.00305310539505,254.53618573294116,253.91994448405097,248.23442102868444,251.8723382596746,249.45701011866646,247.5585285506903,244.964232027639,250.62989017400048,249.35760684296324,243.07571026984846,240.7100457599529,240.34228455227466,244.09949314122974,245.06365544911304,244.78533409246947,238.41653779286997,243.04918798058935,246.64571803984722,246.8648921582891,250.83004403107864,250.49129766174963,250.23228319155365,250.0629124389447,250.29203625502106,247.20362731525293,244.30450271466924,246.8350120905581,249.04670877508883,254.20738675622056,252.8624141131004,253.34061871752232,257.0268179161676,256.93714758018274,258.8001557709658,258.43154545197984,255.114009786707,258.66069125425776,258.8499686720298,261.73914564355863,264.99691514296705,265.16631586766664,265.2360525025115,265.1962130342426,267.86616575162185,269.67940337075487,268.6034074446844,271.80144923021476,276.991996338799,278.35686764061956,275.8661992837956,274.6906306617764,278.1177641917581,276.48389543486894,281.29588544086107,280.9471536491598,281.01692244855025,277.8886449898117,276.99199874823654,277.85872942437067,282.7802850729647,286.2971002935274,287.92102403081213,288.3494092533576,287.9110757666465,285.17135035141285,284.10535251517797,285.29088146498157,284.3544301848899,285.1514123230909,285.80895897447925,287.43289842898537,288.668221343635,287.72174926660114,286.1377012499887,285.5599067820697,288.39926973238903,292.095382632516,291.29838287995585,291.5067019966163,288.16279645156584,299.1726580246481,302.6962211444097,304.4629633369294,303.7442922921823,300.4403475289859,298.44399057803344,300.57009296550734,303.86410553257394,302.31691795756683,301.6481373981162,300.44033744360644,300.4603067365565,299.23253574778744,300.270671876409,297.8750559968619,297.00660673589294,299.01296275403917,302.7062178972524,303.2053028608196,303.61455352985513,295.78883435855136,295.150016510438,296.1881317863621,298.30424458832425,297.6853949010418],\"yaxis\":\"y\",\"type\":\"scatter\"}],                        {\"template\":{\"data\":{\"bar\":[{\"error_x\":{\"color\":\"#2a3f5f\"},\"error_y\":{\"color\":\"#2a3f5f\"},\"marker\":{\"line\":{\"color\":\"#E5ECF6\",\"width\":0.5},\"pattern\":{\"fillmode\":\"overlay\",\"size\":10,\"solidity\":0.2}},\"type\":\"bar\"}],\"barpolar\":[{\"marker\":{\"line\":{\"color\":\"#E5ECF6\",\"width\":0.5},\"pattern\":{\"fillmode\":\"overlay\",\"size\":10,\"solidity\":0.2}},\"type\":\"barpolar\"}],\"carpet\":[{\"aaxis\":{\"endlinecolor\":\"#2a3f5f\",\"gridcolor\":\"white\",\"linecolor\":\"white\",\"minorgridcolor\":\"white\",\"startlinecolor\":\"#2a3f5f\"},\"baxis\":{\"endlinecolor\":\"#2a3f5f\",\"gridcolor\":\"white\",\"linecolor\":\"white\",\"minorgridcolor\":\"white\",\"startlinecolor\":\"#2a3f5f\"},\"type\":\"carpet\"}],\"choropleth\":[{\"colorbar\":{\"outlinewidth\":0,\"ticks\":\"\"},\"type\":\"choropleth\"}],\"contour\":[{\"colorbar\":{\"outlinewidth\":0,\"ticks\":\"\"},\"colorscale\":[[0.0,\"#0d0887\"],[0.1111111111111111,\"#46039f\"],[0.2222222222222222,\"#7201a8\"],[0.3333333333333333,\"#9c179e\"],[0.4444444444444444,\"#bd3786\"],[0.5555555555555556,\"#d8576b\"],[0.6666666666666666,\"#ed7953\"],[0.7777777777777778,\"#fb9f3a\"],[0.8888888888888888,\"#fdca26\"],[1.0,\"#f0f921\"]],\"type\":\"contour\"}],\"contourcarpet\":[{\"colorbar\":{\"outlinewidth\":0,\"ticks\":\"\"},\"type\":\"contourcarpet\"}],\"heatmap\":[{\"colorbar\":{\"outlinewidth\":0,\"ticks\":\"\"},\"colorscale\":[[0.0,\"#0d0887\"],[0.1111111111111111,\"#46039f\"],[0.2222222222222222,\"#7201a8\"],[0.3333333333333333,\"#9c179e\"],[0.4444444444444444,\"#bd3786\"],[0.5555555555555556,\"#d8576b\"],[0.6666666666666666,\"#ed7953\"],[0.7777777777777778,\"#fb9f3a\"],[0.8888888888888888,\"#fdca26\"],[1.0,\"#f0f921\"]],\"type\":\"heatmap\"}],\"heatmapgl\":[{\"colorbar\":{\"outlinewidth\":0,\"ticks\":\"\"},\"colorscale\":[[0.0,\"#0d0887\"],[0.1111111111111111,\"#46039f\"],[0.2222222222222222,\"#7201a8\"],[0.3333333333333333,\"#9c179e\"],[0.4444444444444444,\"#bd3786\"],[0.5555555555555556,\"#d8576b\"],[0.6666666666666666,\"#ed7953\"],[0.7777777777777778,\"#fb9f3a\"],[0.8888888888888888,\"#fdca26\"],[1.0,\"#f0f921\"]],\"type\":\"heatmapgl\"}],\"histogram\":[{\"marker\":{\"pattern\":{\"fillmode\":\"overlay\",\"size\":10,\"solidity\":0.2}},\"type\":\"histogram\"}],\"histogram2d\":[{\"colorbar\":{\"outlinewidth\":0,\"ticks\":\"\"},\"colorscale\":[[0.0,\"#0d0887\"],[0.1111111111111111,\"#46039f\"],[0.2222222222222222,\"#7201a8\"],[0.3333333333333333,\"#9c179e\"],[0.4444444444444444,\"#bd3786\"],[0.5555555555555556,\"#d8576b\"],[0.6666666666666666,\"#ed7953\"],[0.7777777777777778,\"#fb9f3a\"],[0.8888888888888888,\"#fdca26\"],[1.0,\"#f0f921\"]],\"type\":\"histogram2d\"}],\"histogram2dcontour\":[{\"colorbar\":{\"outlinewidth\":0,\"ticks\":\"\"},\"colorscale\":[[0.0,\"#0d0887\"],[0.1111111111111111,\"#46039f\"],[0.2222222222222222,\"#7201a8\"],[0.3333333333333333,\"#9c179e\"],[0.4444444444444444,\"#bd3786\"],[0.5555555555555556,\"#d8576b\"],[0.6666666666666666,\"#ed7953\"],[0.7777777777777778,\"#fb9f3a\"],[0.8888888888888888,\"#fdca26\"],[1.0,\"#f0f921\"]],\"type\":\"histogram2dcontour\"}],\"mesh3d\":[{\"colorbar\":{\"outlinewidth\":0,\"ticks\":\"\"},\"type\":\"mesh3d\"}],\"parcoords\":[{\"line\":{\"colorbar\":{\"outlinewidth\":0,\"ticks\":\"\"}},\"type\":\"parcoords\"}],\"pie\":[{\"automargin\":true,\"type\":\"pie\"}],\"scatter\":[{\"marker\":{\"colorbar\":{\"outlinewidth\":0,\"ticks\":\"\"}},\"type\":\"scatter\"}],\"scatter3d\":[{\"line\":{\"colorbar\":{\"outlinewidth\":0,\"ticks\":\"\"}},\"marker\":{\"colorbar\":{\"outlinewidth\":0,\"ticks\":\"\"}},\"type\":\"scatter3d\"}],\"scattercarpet\":[{\"marker\":{\"colorbar\":{\"outlinewidth\":0,\"ticks\":\"\"}},\"type\":\"scattercarpet\"}],\"scattergeo\":[{\"marker\":{\"colorbar\":{\"outlinewidth\":0,\"ticks\":\"\"}},\"type\":\"scattergeo\"}],\"scattergl\":[{\"marker\":{\"colorbar\":{\"outlinewidth\":0,\"ticks\":\"\"}},\"type\":\"scattergl\"}],\"scattermapbox\":[{\"marker\":{\"colorbar\":{\"outlinewidth\":0,\"ticks\":\"\"}},\"type\":\"scattermapbox\"}],\"scatterpolar\":[{\"marker\":{\"colorbar\":{\"outlinewidth\":0,\"ticks\":\"\"}},\"type\":\"scatterpolar\"}],\"scatterpolargl\":[{\"marker\":{\"colorbar\":{\"outlinewidth\":0,\"ticks\":\"\"}},\"type\":\"scatterpolargl\"}],\"scatterternary\":[{\"marker\":{\"colorbar\":{\"outlinewidth\":0,\"ticks\":\"\"}},\"type\":\"scatterternary\"}],\"surface\":[{\"colorbar\":{\"outlinewidth\":0,\"ticks\":\"\"},\"colorscale\":[[0.0,\"#0d0887\"],[0.1111111111111111,\"#46039f\"],[0.2222222222222222,\"#7201a8\"],[0.3333333333333333,\"#9c179e\"],[0.4444444444444444,\"#bd3786\"],[0.5555555555555556,\"#d8576b\"],[0.6666666666666666,\"#ed7953\"],[0.7777777777777778,\"#fb9f3a\"],[0.8888888888888888,\"#fdca26\"],[1.0,\"#f0f921\"]],\"type\":\"surface\"}],\"table\":[{\"cells\":{\"fill\":{\"color\":\"#EBF0F8\"},\"line\":{\"color\":\"white\"}},\"header\":{\"fill\":{\"color\":\"#C8D4E3\"},\"line\":{\"color\":\"white\"}},\"type\":\"table\"}]},\"layout\":{\"annotationdefaults\":{\"arrowcolor\":\"#2a3f5f\",\"arrowhead\":0,\"arrowwidth\":1},\"autotypenumbers\":\"strict\",\"coloraxis\":{\"colorbar\":{\"outlinewidth\":0,\"ticks\":\"\"}},\"colorscale\":{\"diverging\":[[0,\"#8e0152\"],[0.1,\"#c51b7d\"],[0.2,\"#de77ae\"],[0.3,\"#f1b6da\"],[0.4,\"#fde0ef\"],[0.5,\"#f7f7f7\"],[0.6,\"#e6f5d0\"],[0.7,\"#b8e186\"],[0.8,\"#7fbc41\"],[0.9,\"#4d9221\"],[1,\"#276419\"]],\"sequential\":[[0.0,\"#0d0887\"],[0.1111111111111111,\"#46039f\"],[0.2222222222222222,\"#7201a8\"],[0.3333333333333333,\"#9c179e\"],[0.4444444444444444,\"#bd3786\"],[0.5555555555555556,\"#d8576b\"],[0.6666666666666666,\"#ed7953\"],[0.7777777777777778,\"#fb9f3a\"],[0.8888888888888888,\"#fdca26\"],[1.0,\"#f0f921\"]],\"sequentialminus\":[[0.0,\"#0d0887\"],[0.1111111111111111,\"#46039f\"],[0.2222222222222222,\"#7201a8\"],[0.3333333333333333,\"#9c179e\"],[0.4444444444444444,\"#bd3786\"],[0.5555555555555556,\"#d8576b\"],[0.6666666666666666,\"#ed7953\"],[0.7777777777777778,\"#fb9f3a\"],[0.8888888888888888,\"#fdca26\"],[1.0,\"#f0f921\"]]},\"colorway\":[\"#636efa\",\"#EF553B\",\"#00cc96\",\"#ab63fa\",\"#FFA15A\",\"#19d3f3\",\"#FF6692\",\"#B6E880\",\"#FF97FF\",\"#FECB52\"],\"font\":{\"color\":\"#2a3f5f\"},\"geo\":{\"bgcolor\":\"white\",\"lakecolor\":\"white\",\"landcolor\":\"#E5ECF6\",\"showlakes\":true,\"showland\":true,\"subunitcolor\":\"white\"},\"hoverlabel\":{\"align\":\"left\"},\"hovermode\":\"closest\",\"mapbox\":{\"style\":\"light\"},\"paper_bgcolor\":\"white\",\"plot_bgcolor\":\"#E5ECF6\",\"polar\":{\"angularaxis\":{\"gridcolor\":\"white\",\"linecolor\":\"white\",\"ticks\":\"\"},\"bgcolor\":\"#E5ECF6\",\"radialaxis\":{\"gridcolor\":\"white\",\"linecolor\":\"white\",\"ticks\":\"\"}},\"scene\":{\"xaxis\":{\"backgroundcolor\":\"#E5ECF6\",\"gridcolor\":\"white\",\"gridwidth\":2,\"linecolor\":\"white\",\"showbackground\":true,\"ticks\":\"\",\"zerolinecolor\":\"white\"},\"yaxis\":{\"backgroundcolor\":\"#E5ECF6\",\"gridcolor\":\"white\",\"gridwidth\":2,\"linecolor\":\"white\",\"showbackground\":true,\"ticks\":\"\",\"zerolinecolor\":\"white\"},\"zaxis\":{\"backgroundcolor\":\"#E5ECF6\",\"gridcolor\":\"white\",\"gridwidth\":2,\"linecolor\":\"white\",\"showbackground\":true,\"ticks\":\"\",\"zerolinecolor\":\"white\"}},\"shapedefaults\":{\"line\":{\"color\":\"#2a3f5f\"}},\"ternary\":{\"aaxis\":{\"gridcolor\":\"white\",\"linecolor\":\"white\",\"ticks\":\"\"},\"baxis\":{\"gridcolor\":\"white\",\"linecolor\":\"white\",\"ticks\":\"\"},\"bgcolor\":\"#E5ECF6\",\"caxis\":{\"gridcolor\":\"white\",\"linecolor\":\"white\",\"ticks\":\"\"}},\"title\":{\"x\":0.05},\"xaxis\":{\"automargin\":true,\"gridcolor\":\"white\",\"linecolor\":\"white\",\"ticks\":\"\",\"title\":{\"standoff\":15},\"zerolinecolor\":\"white\",\"zerolinewidth\":2},\"yaxis\":{\"automargin\":true,\"gridcolor\":\"white\",\"linecolor\":\"white\",\"ticks\":\"\",\"title\":{\"standoff\":15},\"zerolinecolor\":\"white\",\"zerolinewidth\":2}}},\"xaxis\":{\"anchor\":\"y\",\"domain\":[0.0,1.0],\"title\":{\"text\":\"Date\"}},\"yaxis\":{\"anchor\":\"x\",\"domain\":[0.0,1.0],\"title\":{\"text\":\"Open\"}},\"legend\":{\"tracegroupgap\":0},\"title\":{\"text\":\"Microsoft Stock Prices\"}},                        {\"responsive\": true}                    ).then(function(){\n",
       "                            \n",
       "var gd = document.getElementById('76c5bb7e-f8ac-4f5e-8359-579e4bb1bccb');\n",
       "var x = new MutationObserver(function (mutations, observer) {{\n",
       "        var display = window.getComputedStyle(gd).display;\n",
       "        if (!display || display === 'none') {{\n",
       "            console.log([gd, 'removed!']);\n",
       "            Plotly.purge(gd);\n",
       "            observer.disconnect();\n",
       "        }}\n",
       "}});\n",
       "\n",
       "// Listen for the removal of the full notebook cells\n",
       "var notebookContainer = gd.closest('#notebook-container');\n",
       "if (notebookContainer) {{\n",
       "    x.observe(notebookContainer, {childList: true});\n",
       "}}\n",
       "\n",
       "// Listen for the clearing of the current output cell\n",
       "var outputEl = gd.closest('.output');\n",
       "if (outputEl) {{\n",
       "    x.observe(outputEl, {childList: true});\n",
       "}}\n",
       "\n",
       "                        })                };                });            </script>        </div>"
      ]
     },
     "metadata": {},
     "output_type": "display_data"
    }
   ],
   "source": [
    "# share price\n",
    "old  =  ticker.history(start='2018-09-29',  end='2021-09-25')\n",
    "#old.head()\n",
    "old = old.reset_index()\n",
    "for i in ['Open', 'High', 'Close', 'Low']: \n",
    "      old[i]  =  old[i].astype('float64')\n",
    "\n",
    "fig = px.line(old, x='Date', y='Open', title='Microsoft Stock Prices')\n",
    "fig.show()\n"
   ]
  },
  {
   "cell_type": "code",
   "execution_count": null,
   "id": "18420ded",
   "metadata": {},
   "outputs": [],
   "source": []
  }
 ],
 "metadata": {
  "kernelspec": {
   "display_name": "Python 3",
   "language": "python",
   "name": "python3"
  },
  "language_info": {
   "codemirror_mode": {
    "name": "ipython",
    "version": 3
   },
   "file_extension": ".py",
   "mimetype": "text/x-python",
   "name": "python",
   "nbconvert_exporter": "python",
   "pygments_lexer": "ipython3",
   "version": "3.8.8"
  }
 },
 "nbformat": 4,
 "nbformat_minor": 5
}
